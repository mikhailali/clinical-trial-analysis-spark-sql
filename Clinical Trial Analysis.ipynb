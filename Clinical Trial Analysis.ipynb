{
 "cells": [
  {
   "cell_type": "markdown",
   "metadata": {
    "application/vnd.databricks.v1+cell": {
     "cellMetadata": {
      "byteLimit": 2048000,
      "rowLimit": 10000
     },
     "inputWidgets": {},
     "nuid": "e13ba6e4-ffde-4061-8bda-c39f18640d78",
     "showTitle": false,
     "tableResultSettingsMap": {},
     "title": ""
    }
   },
   "source": [
    "# Task 1"
   ]
  },
  {
   "cell_type": "markdown",
   "metadata": {
    "application/vnd.databricks.v1+cell": {
     "cellMetadata": {
      "byteLimit": 2048000,
      "rowLimit": 10000
     },
     "inputWidgets": {},
     "nuid": "83a2b28f-b9df-4df8-86ea-34b77b0a9cc4",
     "showTitle": false,
     "tableResultSettingsMap": {},
     "title": ""
    }
   },
   "source": [
    "In this task, we will be analysing a dataset where each row corresponds to a clinical trial. There is a variety of information about the clinical trial given, such as the trial name, the conditions being monitored, and the start and completion times of the trial. The dataset contains around 500,000 rows, so Spark SQL is a good module for data processing, as this can be considered Big Data.\n",
    "\n",
    "There are four questions relating to the dataset which we want to find the answers to, and I will write SQL queries in order to find this information. \n",
    "\n",
    "Our goals are to:\n",
    "- Determine the frequency of each study type.\n",
    "- Identify the top 10 most common conditions.\n",
    "- Compute the average trial duration in months.\n",
    "- Visualise trends in diabetes‑related trials over time.\n",
    "\n",
    "By revealing these insights, we aim to help researchers and decision‑makers better understand trial designs, durations, and focus areas.\n",
    "\n",
    "Firstly, we will upload the dataset and perform some exploratory data analysis, before tackling these questions with tables and visualisations."
   ]
  },
  {
   "cell_type": "markdown",
   "metadata": {
    "application/vnd.databricks.v1+cell": {
     "cellMetadata": {
      "byteLimit": 2048000,
      "rowLimit": 10000
     },
     "inputWidgets": {},
     "nuid": "9d12a6b5-4e99-47b3-82ad-2da998aae984",
     "showTitle": false,
     "tableResultSettingsMap": {},
     "title": ""
    }
   },
   "source": [
    "#### Data Import\n",
    "\n",
    "First, we upload our clinical trial CSV to DBFS and create a Spark SQL temporary view named `ClinicalTrials`.  \n",
    "This step ensures that Spark can efficiently query the ~500 000‑row dataset using SQL.  \n",
    "We specify `header = true` so the first row becomes column names, and `inferSchema = true` so Spark assigns the correct data types automatically."
   ]
  },
  {
   "cell_type": "code",
   "execution_count": 0,
   "metadata": {
    "application/vnd.databricks.v1+cell": {
     "cellMetadata": {
      "byteLimit": 2048000,
      "implicitDf": true,
      "rowLimit": 10000
     },
     "inputWidgets": {},
     "nuid": "aa7c8443-623e-4665-bb54-941e3fe44c6e",
     "showTitle": false,
     "tableResultSettingsMap": {},
     "title": ""
    }
   },
   "outputs": [
    {
     "output_type": "display_data",
     "data": {
      "text/html": [
       "<style scoped>\n",
       "  .table-result-container {\n",
       "    max-height: 300px;\n",
       "    overflow: auto;\n",
       "  }\n",
       "  table, th, td {\n",
       "    border: 1px solid black;\n",
       "    border-collapse: collapse;\n",
       "  }\n",
       "  th, td {\n",
       "    padding: 5px;\n",
       "  }\n",
       "  th {\n",
       "    text-align: left;\n",
       "  }\n",
       "</style><div class='table-result-container'><table class='table-result'><thead style='background-color: white'><tr></tr></thead><tbody></tbody></table></div>"
      ]
     },
     "metadata": {
      "application/vnd.databricks.v1+output": {
       "addedWidgets": {},
       "aggData": [],
       "aggError": "",
       "aggOverflow": false,
       "aggSchema": [],
       "aggSeriesLimitReached": false,
       "aggType": "",
       "arguments": {},
       "columnCustomDisplayInfos": {},
       "data": [],
       "datasetInfos": [],
       "dbfsResultPath": null,
       "isJsonSchema": true,
       "metadata": {},
       "overflow": false,
       "plotOptions": {
        "customPlotOptions": {},
        "displayType": "table",
        "pivotAggregation": null,
        "pivotColumns": null,
        "xColumns": null,
        "yColumns": null
       },
       "removedWidgets": [],
       "schema": [],
       "type": "table"
      }
     },
     "output_type": "display_data"
    }
   ],
   "source": [
    "%sql\n",
    "-- Create a temporary view to load our clinical trial CSV data.\n",
    "CREATE OR REPLACE TEMPORARY VIEW ClinicalTrials\n",
    "USING csv\n",
    "OPTIONS (\n",
    "  path 'dbfs:/FileStore/tables/Clinicaltrial_16012025.csv',\n",
    "  header 'true',\n",
    "  inferSchema 'true'\n",
    ");"
   ]
  },
  {
   "cell_type": "markdown",
   "metadata": {
    "application/vnd.databricks.v1+cell": {
     "cellMetadata": {
      "byteLimit": 2048000,
      "rowLimit": 10000
     },
     "inputWidgets": {},
     "nuid": "2439b8b0-3941-4ff8-b21f-ba7ad70a3ec5",
     "showTitle": false,
     "tableResultSettingsMap": {},
     "title": ""
    }
   },
   "source": [
    "#### Exploratory Data Analysis\n",
    "\n",
    "Before we attempt to answer the four questions and reveal insights about the dataset, it is important to have an understanding of the data. This includes checking for potential issues that may arise, as well as confirming our initial assumptions.\n",
    "\n",
    "1. **Schema Inspection**\n",
    "\n",
    "We run `DESCRIBE TABLE ClinicalTrials` to verify all column names and data types. This allows us to create queries that use the correct attributes.\n",
    "\n",
    "2. **Row Preview**  \n",
    "\n",
    "By selecting the first 10 rows (`SELECT * FROM ClinicalTrials LIMIT 10`), we can look at actual examples of clinical trials. This will give us an idea of the values in key columns such as `Start Date` and `Conditions`, and can help us spot any anomalies in the data.\n",
    "\n",
    "3. **Missing‑Value Analysis**\n",
    "\n",
    "We count nulls in critical columns - `Start Date`, `Completion Date`, `Conditions`, and `Study Type` - to assess completeness.\n",
    "\n",
    "4. **Distinct Value Cardinality**  \n",
    "\n",
    "Counting distinct `Study Type` entries tells us how many unique categories exist, which informs us whether GROUP BY is appropriate for this attribute.\n",
    "\n",
    "These checks establish confidence in the reliability of the dataset, and allow us to move forward for the analysis section."
   ]
  },
  {
   "cell_type": "code",
   "execution_count": 0,
   "metadata": {
    "application/vnd.databricks.v1+cell": {
     "cellMetadata": {
      "byteLimit": 2048000,
      "implicitDf": true,
      "rowLimit": 10000
     },
     "inputWidgets": {},
     "nuid": "3873e07e-4f90-45fc-9548-64e0f74b7242",
     "showTitle": false,
     "tableResultSettingsMap": {},
     "title": ""
    }
   },
   "outputs": [
    {
     "output_type": "display_data",
     "data": {
      "text/html": [
       "<style scoped>\n",
       "  .table-result-container {\n",
       "    max-height: 300px;\n",
       "    overflow: auto;\n",
       "  }\n",
       "  table, th, td {\n",
       "    border: 1px solid black;\n",
       "    border-collapse: collapse;\n",
       "  }\n",
       "  th, td {\n",
       "    padding: 5px;\n",
       "  }\n",
       "  th {\n",
       "    text-align: left;\n",
       "  }\n",
       "</style><div class='table-result-container'><table class='table-result'><thead style='background-color: white'><tr><th>col_name</th><th>data_type</th><th>comment</th></tr></thead><tbody><tr><td>NCT Number</td><td>string</td><td>null</td></tr><tr><td>Study Title</td><td>string</td><td>null</td></tr><tr><td>Acronym</td><td>string</td><td>null</td></tr><tr><td>Study Status</td><td>string</td><td>null</td></tr><tr><td>Conditions</td><td>string</td><td>null</td></tr><tr><td>Interventions</td><td>string</td><td>null</td></tr><tr><td>Sponsor</td><td>string</td><td>null</td></tr><tr><td>Collaborators</td><td>string</td><td>null</td></tr><tr><td>Enrollment</td><td>string</td><td>null</td></tr><tr><td>Funder Type</td><td>string</td><td>null</td></tr><tr><td>Study Type</td><td>string</td><td>null</td></tr><tr><td>Study Design</td><td>string</td><td>null</td></tr><tr><td>Start Date</td><td>string</td><td>null</td></tr><tr><td>Completion Date</td><td>string</td><td>null</td></tr></tbody></table></div>"
      ]
     },
     "metadata": {
      "application/vnd.databricks.v1+output": {
       "addedWidgets": {},
       "aggData": [],
       "aggError": "",
       "aggOverflow": false,
       "aggSchema": [],
       "aggSeriesLimitReached": false,
       "aggType": "",
       "arguments": {},
       "columnCustomDisplayInfos": {},
       "data": [
        [
         "NCT Number",
         "string",
         null
        ],
        [
         "Study Title",
         "string",
         null
        ],
        [
         "Acronym",
         "string",
         null
        ],
        [
         "Study Status",
         "string",
         null
        ],
        [
         "Conditions",
         "string",
         null
        ],
        [
         "Interventions",
         "string",
         null
        ],
        [
         "Sponsor",
         "string",
         null
        ],
        [
         "Collaborators",
         "string",
         null
        ],
        [
         "Enrollment",
         "string",
         null
        ],
        [
         "Funder Type",
         "string",
         null
        ],
        [
         "Study Type",
         "string",
         null
        ],
        [
         "Study Design",
         "string",
         null
        ],
        [
         "Start Date",
         "string",
         null
        ],
        [
         "Completion Date",
         "string",
         null
        ]
       ],
       "datasetInfos": [],
       "dbfsResultPath": null,
       "isJsonSchema": true,
       "metadata": {},
       "overflow": false,
       "plotOptions": {
        "customPlotOptions": {},
        "displayType": "table",
        "pivotAggregation": null,
        "pivotColumns": null,
        "xColumns": null,
        "yColumns": null
       },
       "removedWidgets": [],
       "schema": [
        {
         "metadata": "{\"comment\":\"name of the column\"}",
         "name": "col_name",
         "type": "\"string\""
        },
        {
         "metadata": "{\"comment\":\"data type of the column\"}",
         "name": "data_type",
         "type": "\"string\""
        },
        {
         "metadata": "{\"comment\":\"comment of the column\"}",
         "name": "comment",
         "type": "\"string\""
        }
       ],
       "type": "table"
      }
     },
     "output_type": "display_data"
    }
   ],
   "source": [
    "%sql\n",
    "DESCRIBE TABLE ClinicalTrials;"
   ]
  },
  {
   "cell_type": "code",
   "execution_count": 0,
   "metadata": {
    "application/vnd.databricks.v1+cell": {
     "cellMetadata": {
      "byteLimit": 2048000,
      "implicitDf": true,
      "rowLimit": 10000
     },
     "inputWidgets": {},
     "nuid": "07100589-71cd-4440-9eb8-d24140af17e6",
     "showTitle": false,
     "tableResultSettingsMap": {},
     "title": ""
    }
   },
   "outputs": [
    {
     "output_type": "display_data",
     "data": {
      "text/html": [
       "<style scoped>\n",
       "  .table-result-container {\n",
       "    max-height: 300px;\n",
       "    overflow: auto;\n",
       "  }\n",
       "  table, th, td {\n",
       "    border: 1px solid black;\n",
       "    border-collapse: collapse;\n",
       "  }\n",
       "  th, td {\n",
       "    padding: 5px;\n",
       "  }\n",
       "  th {\n",
       "    text-align: left;\n",
       "  }\n",
       "</style><div class='table-result-container'><table class='table-result'><thead style='background-color: white'><tr><th>NCT Number</th><th>Study Title</th><th>Acronym</th><th>Study Status</th><th>Conditions</th><th>Interventions</th><th>Sponsor</th><th>Collaborators</th><th>Enrollment</th><th>Funder Type</th><th>Study Type</th><th>Study Design</th><th>Start Date</th><th>Completion Date</th></tr></thead><tbody><tr><td>NCT05013879</td><td>Kinesiotape for Edema After Bilateral Total Knee Arthroplasty</td><td>null</td><td>COMPLETED</td><td>Arthroplasty Complications|Arthroplasty, Replacement, Knee</td><td>DEVICE: Kinesio(R)Tape for edema control</td><td>Montefiore Medical Center</td><td>Burke Rehabilitation Hospital</td><td>65</td><td>OTHER</td><td>INTERVENTIONAL</td><td>Allocation: RANDOMIZED|Intervention Model: SINGLE_GROUP|Masking: NONE|Primary Purpose: TREATMENT</td><td>2021-10-18</td><td>2023-11-24</td></tr><tr><td>NCT00517179</td><td>Effect of Vardenafil on Blood Pressure in Patients With Erectile Dysfunction Who Received Concomitant Doxazosin GITS</td><td>null</td><td>COMPLETED</td><td>Prostatic Hyperplasia|Impotence</td><td>DRUG: Vardenafil 10mg</td><td>Hospital Authority, Hong Kong</td><td>null</td><td>40</td><td>OTHER_GOV</td><td>INTERVENTIONAL</td><td>Allocation: RANDOMIZED|Intervention Model: CROSSOVER|Masking: DOUBLE|Primary Purpose: TREATMENT</td><td>2006-04</td><td>2007-05</td></tr><tr><td>NCT06714279</td><td>Laparoscopic-Assisted Transversus Abdominus Plane Block Versus Intraperitoneal Irrigation of Local Anesthetic for Patients Undergoing Laparoscopic Cholecystectomy</td><td>null</td><td>NOT_YET_RECRUITING</td><td>Laparoscopic Cholecystectomy|TAP Block|Local Anesthetic</td><td>DRUG: Tap Block - Bupivacaine|DRUG: Intraperitoneal infiltration to liver</td><td>Royal College of Surgeons, Ireland</td><td>null</td><td>144</td><td>OTHER</td><td>INTERVENTIONAL</td><td>Allocation: RANDOMIZED|Intervention Model: PARALLEL|Masking: NONE|Primary Purpose: TREATMENT</td><td>2025-01</td><td>2025-01</td></tr><tr><td>NCT05600179</td><td>OCTA in Epivascular Glia After Dex Implant</td><td>null</td><td>COMPLETED</td><td>Diabetic Retinopathy</td><td>DRUG: Dexamethasone intravitreal implant</td><td>Federico II University</td><td>null</td><td>38</td><td>OTHER</td><td>OBSERVATIONAL</td><td>Observational Model: |Time Perspective: p</td><td>2021-01-01</td><td>2022-09-30</td></tr><tr><td>NCT01511679</td><td>Brain-imaging and Adolescent Neuroscience Consortium</td><td>BANC</td><td>WITHDRAWN</td><td>Alcohol Abuse</td><td>null</td><td>Boston Children's Hospital</td><td>Massachusetts General Hospital|Mclean Hospital|Massachusetts Institute of Technology</td><td>0</td><td>OTHER</td><td>OBSERVATIONAL</td><td>Observational Model: |Time Perspective: p</td><td>2012-09</td><td>2017-09</td></tr><tr><td>NCT05602779</td><td>Leverage Noninvasive Transcutaneous Vagus Nerve Stimulation to Reduce Suicidal Behaviors in Vulnerable Adolescents</td><td>null</td><td>RECRUITING</td><td>Self Harm|Suicidal Ideation</td><td>DEVICE: tVns Program|OTHER: Phone App Program|COMBINATION_PRODUCT: tVNS and Phone App Program|OTHER: Enhanced Treatment as Usual</td><td>University of Notre Dame</td><td>University of Rochester</td><td>212</td><td>OTHER</td><td>INTERVENTIONAL</td><td>Allocation: RANDOMIZED|Intervention Model: PARALLEL|Masking: SINGLE (PARTICIPANT)|Primary Purpose: PREVENTION</td><td>2023-10-08</td><td>2027-09-30</td></tr><tr><td>NCT04175379</td><td>The Effect of Permissive Hypercapnia on Oxygenation and Post-operative Pulmonary Complication During One-lung Ventilation</td><td>null</td><td>UNKNOWN</td><td>Thoracic Surgery</td><td>OTHER: group 40|OTHER: group 50|OTHER: group 60</td><td>Yonsei University</td><td>null</td><td>279</td><td>OTHER</td><td>INTERVENTIONAL</td><td>Allocation: RANDOMIZED|Intervention Model: PARALLEL|Masking: TRIPLE (PARTICIPANT, CARE_PROVIDER, OUTCOMES_ASSESSOR)|Primary Purpose: TREATMENT</td><td>2019-11-25</td><td>2021-10</td></tr><tr><td>NCT01126879</td><td>Genistein in Treating Patients With Prostate Cancer</td><td>null</td><td>TERMINATED</td><td>Adenocarcinoma of the Prostate|Recurrent Prostate Cancer|Stage I Prostate Cancer|Stage II Prostate Cancer|Stage III Prostate Cancer</td><td>DIETARY_SUPPLEMENT: genistein|OTHER: placebo|PROCEDURE: therapeutic conventional surgery</td><td>Northwestern University</td><td>National Cancer Institute (NCI)</td><td>12</td><td>OTHER</td><td>INTERVENTIONAL</td><td>Allocation: RANDOMIZED|Intervention Model: PARALLEL|Masking: DOUBLE (PARTICIPANT, INVESTIGATOR)|Primary Purpose: TREATMENT</td><td>2011-02-03</td><td>2013-12-28</td></tr><tr><td>NCT03058679</td><td>Trial of Specific Carbohydrate and Mediterranean Diets to Induce Remission of Crohn's Disease</td><td>DINE-CD</td><td>COMPLETED</td><td>Crohn Disease</td><td>OTHER: Diet</td><td>University of Pennsylvania</td><td>Patient-Centered Outcomes Research Institute|Crohn's and Colitis Foundation|University of North Carolina, Chapel Hill</td><td>197</td><td>OTHER</td><td>INTERVENTIONAL</td><td>Allocation: RANDOMIZED|Intervention Model: PARALLEL|Masking: NONE|Primary Purpose: TREATMENT</td><td>2017-09-29</td><td>2020-03-01</td></tr><tr><td>NCT05531279</td><td>A Study of PEG-rhG-CSF and rhG-CSF Used for Aplastic Anemia Granulocyte Deficiency</td><td>null</td><td>RECRUITING</td><td>Severe Aplastic Anemia</td><td>DRUG: PEG-rhG-CSF</td><td>Institute of Hematology & Blood Diseases Hospital, China</td><td>null</td><td>45</td><td>OTHER</td><td>INTERVENTIONAL</td><td>Allocation: RANDOMIZED|Intervention Model: PARALLEL|Masking: NONE|Primary Purpose: TREATMENT</td><td>2022-06-05</td><td>2026-01-05</td></tr></tbody></table></div>"
      ]
     },
     "metadata": {
      "application/vnd.databricks.v1+output": {
       "addedWidgets": {},
       "aggData": [],
       "aggError": "",
       "aggOverflow": false,
       "aggSchema": [],
       "aggSeriesLimitReached": false,
       "aggType": "",
       "arguments": {},
       "columnCustomDisplayInfos": {},
       "data": [
        [
         "NCT05013879",
         "Kinesiotape for Edema After Bilateral Total Knee Arthroplasty",
         null,
         "COMPLETED",
         "Arthroplasty Complications|Arthroplasty, Replacement, Knee",
         "DEVICE: Kinesio(R)Tape for edema control",
         "Montefiore Medical Center",
         "Burke Rehabilitation Hospital",
         "65",
         "OTHER",
         "INTERVENTIONAL",
         "Allocation: RANDOMIZED|Intervention Model: SINGLE_GROUP|Masking: NONE|Primary Purpose: TREATMENT",
         "2021-10-18",
         "2023-11-24"
        ],
        [
         "NCT00517179",
         "Effect of Vardenafil on Blood Pressure in Patients With Erectile Dysfunction Who Received Concomitant Doxazosin GITS",
         null,
         "COMPLETED",
         "Prostatic Hyperplasia|Impotence",
         "DRUG: Vardenafil 10mg",
         "Hospital Authority, Hong Kong",
         null,
         "40",
         "OTHER_GOV",
         "INTERVENTIONAL",
         "Allocation: RANDOMIZED|Intervention Model: CROSSOVER|Masking: DOUBLE|Primary Purpose: TREATMENT",
         "2006-04",
         "2007-05"
        ],
        [
         "NCT06714279",
         "Laparoscopic-Assisted Transversus Abdominus Plane Block Versus Intraperitoneal Irrigation of Local Anesthetic for Patients Undergoing Laparoscopic Cholecystectomy",
         null,
         "NOT_YET_RECRUITING",
         "Laparoscopic Cholecystectomy|TAP Block|Local Anesthetic",
         "DRUG: Tap Block - Bupivacaine|DRUG: Intraperitoneal infiltration to liver",
         "Royal College of Surgeons, Ireland",
         null,
         "144",
         "OTHER",
         "INTERVENTIONAL",
         "Allocation: RANDOMIZED|Intervention Model: PARALLEL|Masking: NONE|Primary Purpose: TREATMENT",
         "2025-01",
         "2025-01"
        ],
        [
         "NCT05600179",
         "OCTA in Epivascular Glia After Dex Implant",
         null,
         "COMPLETED",
         "Diabetic Retinopathy",
         "DRUG: Dexamethasone intravitreal implant",
         "Federico II University",
         null,
         "38",
         "OTHER",
         "OBSERVATIONAL",
         "Observational Model: |Time Perspective: p",
         "2021-01-01",
         "2022-09-30"
        ],
        [
         "NCT01511679",
         "Brain-imaging and Adolescent Neuroscience Consortium",
         "BANC",
         "WITHDRAWN",
         "Alcohol Abuse",
         null,
         "Boston Children's Hospital",
         "Massachusetts General Hospital|Mclean Hospital|Massachusetts Institute of Technology",
         "0",
         "OTHER",
         "OBSERVATIONAL",
         "Observational Model: |Time Perspective: p",
         "2012-09",
         "2017-09"
        ],
        [
         "NCT05602779",
         "Leverage Noninvasive Transcutaneous Vagus Nerve Stimulation to Reduce Suicidal Behaviors in Vulnerable Adolescents",
         null,
         "RECRUITING",
         "Self Harm|Suicidal Ideation",
         "DEVICE: tVns Program|OTHER: Phone App Program|COMBINATION_PRODUCT: tVNS and Phone App Program|OTHER: Enhanced Treatment as Usual",
         "University of Notre Dame",
         "University of Rochester",
         "212",
         "OTHER",
         "INTERVENTIONAL",
         "Allocation: RANDOMIZED|Intervention Model: PARALLEL|Masking: SINGLE (PARTICIPANT)|Primary Purpose: PREVENTION",
         "2023-10-08",
         "2027-09-30"
        ],
        [
         "NCT04175379",
         "The Effect of Permissive Hypercapnia on Oxygenation and Post-operative Pulmonary Complication During One-lung Ventilation",
         null,
         "UNKNOWN",
         "Thoracic Surgery",
         "OTHER: group 40|OTHER: group 50|OTHER: group 60",
         "Yonsei University",
         null,
         "279",
         "OTHER",
         "INTERVENTIONAL",
         "Allocation: RANDOMIZED|Intervention Model: PARALLEL|Masking: TRIPLE (PARTICIPANT, CARE_PROVIDER, OUTCOMES_ASSESSOR)|Primary Purpose: TREATMENT",
         "2019-11-25",
         "2021-10"
        ],
        [
         "NCT01126879",
         "Genistein in Treating Patients With Prostate Cancer",
         null,
         "TERMINATED",
         "Adenocarcinoma of the Prostate|Recurrent Prostate Cancer|Stage I Prostate Cancer|Stage II Prostate Cancer|Stage III Prostate Cancer",
         "DIETARY_SUPPLEMENT: genistein|OTHER: placebo|PROCEDURE: therapeutic conventional surgery",
         "Northwestern University",
         "National Cancer Institute (NCI)",
         "12",
         "OTHER",
         "INTERVENTIONAL",
         "Allocation: RANDOMIZED|Intervention Model: PARALLEL|Masking: DOUBLE (PARTICIPANT, INVESTIGATOR)|Primary Purpose: TREATMENT",
         "2011-02-03",
         "2013-12-28"
        ],
        [
         "NCT03058679",
         "Trial of Specific Carbohydrate and Mediterranean Diets to Induce Remission of Crohn's Disease",
         "DINE-CD",
         "COMPLETED",
         "Crohn Disease",
         "OTHER: Diet",
         "University of Pennsylvania",
         "Patient-Centered Outcomes Research Institute|Crohn's and Colitis Foundation|University of North Carolina, Chapel Hill",
         "197",
         "OTHER",
         "INTERVENTIONAL",
         "Allocation: RANDOMIZED|Intervention Model: PARALLEL|Masking: NONE|Primary Purpose: TREATMENT",
         "2017-09-29",
         "2020-03-01"
        ],
        [
         "NCT05531279",
         "A Study of PEG-rhG-CSF and rhG-CSF Used for Aplastic Anemia Granulocyte Deficiency",
         null,
         "RECRUITING",
         "Severe Aplastic Anemia",
         "DRUG: PEG-rhG-CSF",
         "Institute of Hematology & Blood Diseases Hospital, China",
         null,
         "45",
         "OTHER",
         "INTERVENTIONAL",
         "Allocation: RANDOMIZED|Intervention Model: PARALLEL|Masking: NONE|Primary Purpose: TREATMENT",
         "2022-06-05",
         "2026-01-05"
        ]
       ],
       "datasetInfos": [],
       "dbfsResultPath": null,
       "isJsonSchema": true,
       "metadata": {},
       "overflow": false,
       "plotOptions": {
        "customPlotOptions": {},
        "displayType": "table",
        "pivotAggregation": null,
        "pivotColumns": null,
        "xColumns": null,
        "yColumns": null
       },
       "removedWidgets": [],
       "schema": [
        {
         "metadata": "{}",
         "name": "NCT Number",
         "type": "\"string\""
        },
        {
         "metadata": "{}",
         "name": "Study Title",
         "type": "\"string\""
        },
        {
         "metadata": "{}",
         "name": "Acronym",
         "type": "\"string\""
        },
        {
         "metadata": "{}",
         "name": "Study Status",
         "type": "\"string\""
        },
        {
         "metadata": "{}",
         "name": "Conditions",
         "type": "\"string\""
        },
        {
         "metadata": "{}",
         "name": "Interventions",
         "type": "\"string\""
        },
        {
         "metadata": "{}",
         "name": "Sponsor",
         "type": "\"string\""
        },
        {
         "metadata": "{}",
         "name": "Collaborators",
         "type": "\"string\""
        },
        {
         "metadata": "{}",
         "name": "Enrollment",
         "type": "\"string\""
        },
        {
         "metadata": "{}",
         "name": "Funder Type",
         "type": "\"string\""
        },
        {
         "metadata": "{}",
         "name": "Study Type",
         "type": "\"string\""
        },
        {
         "metadata": "{}",
         "name": "Study Design",
         "type": "\"string\""
        },
        {
         "metadata": "{}",
         "name": "Start Date",
         "type": "\"string\""
        },
        {
         "metadata": "{}",
         "name": "Completion Date",
         "type": "\"string\""
        }
       ],
       "type": "table"
      }
     },
     "output_type": "display_data"
    }
   ],
   "source": [
    "%sql\n",
    "SELECT * \n",
    "FROM ClinicalTrials \n",
    "LIMIT 10;"
   ]
  },
  {
   "cell_type": "code",
   "execution_count": 0,
   "metadata": {
    "application/vnd.databricks.v1+cell": {
     "cellMetadata": {
      "byteLimit": 2048000,
      "implicitDf": true,
      "rowLimit": 10000
     },
     "inputWidgets": {},
     "nuid": "21c41cdc-1ceb-40cf-95cf-18a22d2e0549",
     "showTitle": false,
     "tableResultSettingsMap": {},
     "title": ""
    }
   },
   "outputs": [
    {
     "output_type": "display_data",
     "data": {
      "text/html": [
       "<style scoped>\n",
       "  .table-result-container {\n",
       "    max-height: 300px;\n",
       "    overflow: auto;\n",
       "  }\n",
       "  table, th, td {\n",
       "    border: 1px solid black;\n",
       "    border-collapse: collapse;\n",
       "  }\n",
       "  th, td {\n",
       "    padding: 5px;\n",
       "  }\n",
       "  th {\n",
       "    text-align: left;\n",
       "  }\n",
       "</style><div class='table-result-container'><table class='table-result'><thead style='background-color: white'><tr><th>missing_start</th><th>missing_completion</th><th>missing_conditions</th><th>missing_study_type</th></tr></thead><tbody><tr><td>5190</td><td>16672</td><td>953</td><td>919</td></tr></tbody></table></div>"
      ]
     },
     "metadata": {
      "application/vnd.databricks.v1+output": {
       "addedWidgets": {},
       "aggData": [],
       "aggError": "",
       "aggOverflow": false,
       "aggSchema": [],
       "aggSeriesLimitReached": false,
       "aggType": "",
       "arguments": {},
       "columnCustomDisplayInfos": {},
       "data": [
        [
         5190,
         16672,
         953,
         919
        ]
       ],
       "datasetInfos": [],
       "dbfsResultPath": null,
       "isJsonSchema": true,
       "metadata": {},
       "overflow": false,
       "plotOptions": {
        "customPlotOptions": {},
        "displayType": "table",
        "pivotAggregation": null,
        "pivotColumns": null,
        "xColumns": null,
        "yColumns": null
       },
       "removedWidgets": [],
       "schema": [
        {
         "metadata": "{}",
         "name": "missing_start",
         "type": "\"long\""
        },
        {
         "metadata": "{}",
         "name": "missing_completion",
         "type": "\"long\""
        },
        {
         "metadata": "{}",
         "name": "missing_conditions",
         "type": "\"long\""
        },
        {
         "metadata": "{}",
         "name": "missing_study_type",
         "type": "\"long\""
        }
       ],
       "type": "table"
      }
     },
     "output_type": "display_data"
    }
   ],
   "source": [
    "%sql\n",
    "SELECT\n",
    "  SUM(CASE WHEN `Start Date`      IS NULL THEN 1 ELSE 0 END) AS missing_start,\n",
    "  SUM(CASE WHEN `Completion Date` IS NULL THEN 1 ELSE 0 END) AS missing_completion,\n",
    "  SUM(CASE WHEN `Conditions`      IS NULL THEN 1 ELSE 0 END) AS missing_conditions,\n",
    "  SUM(CASE WHEN `Study Type`      IS NULL THEN 1 ELSE 0 END) AS missing_study_type\n",
    "FROM ClinicalTrials;"
   ]
  },
  {
   "cell_type": "code",
   "execution_count": 0,
   "metadata": {
    "application/vnd.databricks.v1+cell": {
     "cellMetadata": {
      "byteLimit": 2048000,
      "implicitDf": true,
      "rowLimit": 10000
     },
     "inputWidgets": {},
     "nuid": "5f52ff9f-efed-4e17-a939-7ee8deec9997",
     "showTitle": false,
     "tableResultSettingsMap": {},
     "title": ""
    }
   },
   "outputs": [
    {
     "output_type": "display_data",
     "data": {
      "text/html": [
       "<style scoped>\n",
       "  .table-result-container {\n",
       "    max-height: 300px;\n",
       "    overflow: auto;\n",
       "  }\n",
       "  table, th, td {\n",
       "    border: 1px solid black;\n",
       "    border-collapse: collapse;\n",
       "  }\n",
       "  th, td {\n",
       "    padding: 5px;\n",
       "  }\n",
       "  th {\n",
       "    text-align: left;\n",
       "  }\n",
       "</style><div class='table-result-container'><table class='table-result'><thead style='background-color: white'><tr><th>num_study_types</th></tr></thead><tbody><tr><td>115</td></tr></tbody></table></div>"
      ]
     },
     "metadata": {
      "application/vnd.databricks.v1+output": {
       "addedWidgets": {},
       "aggData": [],
       "aggError": "",
       "aggOverflow": false,
       "aggSchema": [],
       "aggSeriesLimitReached": false,
       "aggType": "",
       "arguments": {},
       "columnCustomDisplayInfos": {},
       "data": [
        [
         115
        ]
       ],
       "datasetInfos": [],
       "dbfsResultPath": null,
       "isJsonSchema": true,
       "metadata": {},
       "overflow": false,
       "plotOptions": {
        "customPlotOptions": {},
        "displayType": "table",
        "pivotAggregation": null,
        "pivotColumns": null,
        "xColumns": null,
        "yColumns": null
       },
       "removedWidgets": [],
       "schema": [
        {
         "metadata": "{}",
         "name": "num_study_types",
         "type": "\"long\""
        }
       ],
       "type": "table"
      }
     },
     "output_type": "display_data"
    }
   ],
   "source": [
    "%sql\n",
    "SELECT\n",
    "  COUNT(DISTINCT `Study Type`) AS num_study_types\n",
    "FROM ClinicalTrials; "
   ]
  },
  {
   "cell_type": "markdown",
   "metadata": {
    "application/vnd.databricks.v1+cell": {
     "cellMetadata": {
      "byteLimit": 2048000,
      "rowLimit": 10000
     },
     "inputWidgets": {},
     "nuid": "4ecd0c74-896a-4154-8404-8951c6218052",
     "showTitle": false,
     "tableResultSettingsMap": {},
     "title": ""
    }
   },
   "source": [
    "#### EDA Findings\n",
    "\n",
    "From the exploratory data analysis, we found some key insights:\n",
    "\n",
    "- There are some problems with the schema. `Start Date` and `Completion Date` should be of the `timestamp` data_type, but the `DESCRIBE TABLE` function claims they are strings. Also, we can see from the Row Preview that `Enrollment` should be of the `int` data_type (this integer value probably refers to the number of people taking part in the trial), but this also says string. This makes me believe there is a problem with how the data was parsed.\n",
    "\n",
    "- The `Conditions` column uses `|` as the sole delimiter, not commas or semicolons, so our split logic must target this symbol.\n",
    "\n",
    "- Date strings appear in two formats - `yyyy-mm-dd` and `yyyy-mm` - so we should coalesce two `to_date()` calls to handle both.\n",
    "\n",
    "- Approximately 3% of trials are missing completion dates, which we’ll filter out when calculating average durations.\n",
    "\n",
    "- There are 115 distinct study types (including NULL), which seems large. Further analysis will have to be done on this to find anomalous data.\n",
    "\n",
    "With this information in mind, we can now be more confident in answering the given questions. However, the first step is to fix the mis-parsed data, so that the dataset is aligned correctly. To do this, I will analyse the rows which have been mis-parsed and look for potential issues."
   ]
  },
  {
   "cell_type": "code",
   "execution_count": 0,
   "metadata": {
    "application/vnd.databricks.v1+cell": {
     "cellMetadata": {
      "byteLimit": 2048000,
      "implicitDf": true,
      "rowLimit": 10000
     },
     "inputWidgets": {},
     "nuid": "73e8780e-bf28-4fcb-a307-2c8c67a2286a",
     "showTitle": false,
     "tableResultSettingsMap": {},
     "title": ""
    }
   },
   "outputs": [
    {
     "output_type": "display_data",
     "data": {
      "text/html": [
       "<style scoped>\n",
       "  .table-result-container {\n",
       "    max-height: 300px;\n",
       "    overflow: auto;\n",
       "  }\n",
       "  table, th, td {\n",
       "    border: 1px solid black;\n",
       "    border-collapse: collapse;\n",
       "  }\n",
       "  th, td {\n",
       "    padding: 5px;\n",
       "  }\n",
       "  th {\n",
       "    text-align: left;\n",
       "  }\n",
       "</style><div class='table-result-container'><table class='table-result'><thead style='background-color: white'><tr><th>NCT Number</th><th>Study Title</th><th>Acronym</th><th>Study Status</th><th>Conditions</th><th>Interventions</th><th>Sponsor</th><th>Collaborators</th><th>Enrollment</th><th>Funder Type</th><th>Study Type</th><th>Study Design</th><th>Start Date</th><th>Completion Date</th></tr></thead><tbody><tr><td>NCT02520479</td><td>\"\"\"Sandwich\"\" Chemotherapy With Radiotherapy in Newly Diagnosed</td><td> Stage IE to IIE</td><td> ENKTL\"</td><td>null</td><td>TERMINATED</td><td>Treatment Refusal</td><td>DRUG: P-CHOP|RADIATION: Radiotherapy|DRUG: P-CHOP</td><td>Sun Yat-sen University</td><td>null</td><td>12</td><td>OTHER</td><td>INTERVENTIONAL</td><td>Allocation: NA|Intervention Model: SINGLE_GROUP|Masking: NONE|Primary Purpose: TREATMENT</td></tr><tr><td>NCT06727279</td><td>Assessment of Tolerability of Specialized Food Products Made Out of Vegetable Protein and Their Influence on Lipid Profile in Patients with Non-alcoholic Fatty Liver Disease</td><td>null</td><td>NOT_YET_RECRUITING</td><td>Non-alcoholic Fatty Liver Disease NAFLD</td><td>OTHER: Specialized food - Plant-Based Meat Analog|OTHER: standard isocalorie diet</td><td>\"Federal State Budgetary Scientific Institution \"\"Federal Research Centre of Nutrition</td><td> Biotechnology\"</td><td>Group of companies EFKO|Russian Science Foundation</td><td>50</td><td>OTHER</td><td>INTERVENTIONAL</td><td>Allocation: RANDOMIZED|Intervention Model: PARALLEL|Masking: TRIPLE (PARTICIPANT, CARE_PROVIDER, INVESTIGATOR)|Primary Purpose: BASIC_SCIENCE</td><td>2025-01-20</td></tr><tr><td>NCT04616664</td><td>\"Diagnostic Accuracy of the \"\"LLIFT\"\"</td><td> a Novel Non-invasive Biomarker for the Diagnosis of Non Alcoholic Fatty Liver (NAFL) and SteatoHepatitis (NASH) in a Population With High Risk of Metabolic Syndrome\"\"\"</td><td>LLIFT</td><td>UNKNOWN</td><td>Obesity|NASH - Nonalcoholic Steatohepatitis</td><td>null</td><td>University Hospital, Lille</td><td>RHU PreciNASH Task 1.4|Région Nord-Pas de Calais, France</td><td>1027</td><td>OTHER</td><td>OBSERVATIONAL</td><td>Observational Model: |Time Perspective: p</td><td>2021-02-16</td></tr><tr><td>NCT02519764</td><td>\"Evaluation of the Impact of a Hydration Protocol \"\"at Thirst\"\" on Natremia of the Ultra Trail du Mont-Blanc</td><td> 2015 Runners\"</td><td>NATRITRAIL</td><td>COMPLETED</td><td>Athletes|Healthy</td><td>OTHER: Hydration when thirsty.|OTHER: Not hydration when thirsty</td><td>Centre Hospitalier Universitaire de Nīmes</td><td>DOKEVER</td><td>198</td><td>OTHER</td><td>INTERVENTIONAL</td><td>Allocation: NON_RANDOMIZED|Intervention Model: PARALLEL|Masking: SINGLE (INVESTIGATOR)|Primary Purpose: BASIC_SCIENCE</td><td>2015-08</td></tr><tr><td>NCT02127164</td><td>Vacuum Assisted Therapy in Emergent Contaminated Abdominal Surgeries</td><td>null</td><td>COMPLETED</td><td>Gastrointestinal Injury|Complicated Diverticulitis</td><td>\"DEVICE: \"\"Veraflo\"\" device</td><td> Dakin's solution\"</td><td>University of Arizona</td><td>3M</td><td>18</td><td>OTHER</td><td>INTERVENTIONAL</td><td>Allocation: NA|Intervention Model: SINGLE_GROUP|Masking: NONE|Primary Purpose: TREATMENT</td><td>2014-05</td></tr><tr><td>NCT04747990</td><td>coMpliAnce With evideNce-based cliniCal Guidelines in the managemenT of Acute biliaRy pancreAtitis</td><td>MANCTRA-1</td><td>COMPLETED</td><td>Acute Pancreatitis|Acute Pancreatic Necrosis|Acute Pancreatitis Due to Gallstones|Acute Pancreatic Fluid Collection|Acute Pancreatitis With Infected Necrosis|Acute Pancreatitis Without Necrosis or Infection|Acute Pancreatitis Due to Common Bile Duct Calculus|Acute Pancreatitis Recurrent|Acute Pancreatitis Without Necrosis or Infection (Diagnosis)|Covid19</td><td>PROCEDURE: Early Definitive Treatment</td><td>University of Cagliari</td><td>\"Chiara Gerardi - Istituto Di Ricerche Farmacologiche Mario Negri|Federico Coccolini - General, Emergency and Trauma Surgery, Pisa|Salomone di Saverio -Department of Surgery, Varese|Gianluca Pellino - Universitá degli Studi della Campania 'Luigi Vanvitelli', Naples|Francesco Pata - General Surgery Unit, Nicola Giannettasio Hospital, Corigliano-Rossano|Benedetto Ielpo - HPB Surgery Unit, Hospital del Mar, Barcelona|Francesco Virdis - Trauma and Acute Care Surgery Unit, Milan|Dimitrios Damaskos - Royal Infirmary of Edinburgh, Edinburgh|Stavros Gourgiotis - Addenbrooke's Hospital, Cambridge|Gaetano Poillucci - Department of Surgery \"\"Paride Stefanini\"\"</td><td> Rome|Daniela Pacella - University of Naples Federico II</td><td> Naples|Kumar Jayant- University of Chicago</td><td> USA|Ferdinando Agresta- Vittorio Veneto Civil Hospital</td><td> Italy|Ari Leppaniemi - University of Helsinki</td><td> Finland|Fausto Catena - Maggiore Hospital</td><td> Parma|Yoram Kluger - Rambam Health care campus</td></tr><tr><td>NCT00737490</td><td>Does Echocardiographically Guided Ventriculo-Ventricular Optimization Yield a Sustained Improvement in Echocardiographic Parameters in Cardiac Resynchronization Therapy Patients? (DEVISE CRT)</td><td>Devise-CRT</td><td>COMPLETED</td><td>Cardiomyopathy|Heart Failure</td><td>\"OTHER: \"\"Sequential Arm\"\" (Promote </td><td> model # 2207-36 or Atlas HF </td><td> model # V-343)|OTHER: \"\"Simultaneous Arm\"\" (Promote </td><td> model # 2207-36 or Atlas HF </td><td> model # V-343)\"</td><td>Duke University</td><td>Abbott Medical Devices</td><td>40</td><td>OTHER</td></tr><tr><td>NCT04361903</td><td>Ruxolitinib for the Treatment of Acute Respiratory Distress Syndrome in Patients With COVID-19 Infection</td><td>RESPIRE</td><td>UNKNOWN</td><td>Severe Acute Respiratory Syndrome Coronavirus 2</td><td>DRUG: Ruxolitinib Oral Tablet</td><td>Azienda USL Toscana Nord Ovest</td><td>\"Fondazione C.N.R./Regione Toscana \"\"G. Monasterio\"\"</td><td> Pisa</td><td> Italy|Azienda Ospedaliera Universitaria Senese|Azienda Ospedaliero</td><td> Universitaria Pisana\"</td><td>13</td><td>OTHER</td><td>OBSERVATIONAL</td></tr><tr><td>NCT00536003</td><td>Vaginal Progesterone to Prevent Preterm Delivery in Women With Preterm Labor</td><td>4P</td><td>TERMINATED</td><td>Preterm Delivery|Morbidity|Perinatal Mortality</td><td>DRUG: progesterone|DRUG: placebo</td><td>begoña Martinez de Tejada</td><td>\"Centre Hospitalier Universitaire Vaudois|Insel Gruppe AG, University Hospital Bern|Basel Women's University Hospital|University of Zurich|Kantonsspital Graubuenden|Cantonal Hospital of St. Gallen|Luzerner Kantonsspital|Kantonsspital Winterthur KSW|Besins Laboratory, Belgium|Hospital Bernardino Rivadavia Buenos Aires|Hospital Carlos G. Durand Buenos Aires|CEMIC Buenos Aires|Hospital Donación Francisco Santojanni|Hospital General de Agudos \"\"Dr. Cosme Argerich\"\"|Hospital Dr. T. Alvarez Buenos Aires|Hospital Italiano de Buenos Aires|Hospital J. M. Penna Buenos Aires|Hospital Materno Infantil Ramón Sardá|Hospital Interzonal Alberto Antranik Eurnekian</td><td> provincia Buenos Aires|Hospital Municipal Materno Infantil Comodoro Hugo Cesar Meisner</td><td> provincia Buenos Aires|Hospital Comunal de Tigre</td><td> provincia Buenos Aires|Hospital Dr. Arturo Oñativia</td><td> provincia Buenos Aires|Hospital Dr. Carlos Bocalandro</td><td> provincia Buenos Aires|Hospital Héroes de Malvinas</td><td> provincia Buenos Aires|Hospital Provincial Magdalena V. de Martínez|Hospital Mariano y Luciano de la Vega</td></tr><tr><td>NCT06314243</td><td>The Impact of Pumpkin Seed Oil Supplementation on Hemodialysis Patients</td><td>null</td><td>NOT_YET_RECRUITING</td><td>Hemodialysis Patients</td><td>\"DRUG: Pumpkin Seed Oil \"\" Ronkin®</td><td> KMT PHARMA</td><td> Egypt. \"\"\"</td><td>Ain Shams University</td><td>null</td><td>56</td><td>OTHER</td><td>INTERVENTIONAL</td><td>Allocation: RANDOMIZED|Intervention Model: PARALLEL|Masking: NONE|Primary Purpose: TREATMENT</td></tr></tbody></table></div>"
      ]
     },
     "metadata": {
      "application/vnd.databricks.v1+output": {
       "addedWidgets": {},
       "aggData": [],
       "aggError": "",
       "aggOverflow": false,
       "aggSchema": [],
       "aggSeriesLimitReached": false,
       "aggType": "",
       "arguments": {},
       "columnCustomDisplayInfos": {},
       "data": [
        [
         "NCT02520479",
         "\"\"\"Sandwich\"\" Chemotherapy With Radiotherapy in Newly Diagnosed",
         " Stage IE to IIE",
         " ENKTL\"",
         null,
         "TERMINATED",
         "Treatment Refusal",
         "DRUG: P-CHOP|RADIATION: Radiotherapy|DRUG: P-CHOP",
         "Sun Yat-sen University",
         null,
         "12",
         "OTHER",
         "INTERVENTIONAL",
         "Allocation: NA|Intervention Model: SINGLE_GROUP|Masking: NONE|Primary Purpose: TREATMENT"
        ],
        [
         "NCT06727279",
         "Assessment of Tolerability of Specialized Food Products Made Out of Vegetable Protein and Their Influence on Lipid Profile in Patients with Non-alcoholic Fatty Liver Disease",
         null,
         "NOT_YET_RECRUITING",
         "Non-alcoholic Fatty Liver Disease NAFLD",
         "OTHER: Specialized food - Plant-Based Meat Analog|OTHER: standard isocalorie diet",
         "\"Federal State Budgetary Scientific Institution \"\"Federal Research Centre of Nutrition",
         " Biotechnology\"",
         "Group of companies EFKO|Russian Science Foundation",
         "50",
         "OTHER",
         "INTERVENTIONAL",
         "Allocation: RANDOMIZED|Intervention Model: PARALLEL|Masking: TRIPLE (PARTICIPANT, CARE_PROVIDER, INVESTIGATOR)|Primary Purpose: BASIC_SCIENCE",
         "2025-01-20"
        ],
        [
         "NCT04616664",
         "\"Diagnostic Accuracy of the \"\"LLIFT\"\"",
         " a Novel Non-invasive Biomarker for the Diagnosis of Non Alcoholic Fatty Liver (NAFL) and SteatoHepatitis (NASH) in a Population With High Risk of Metabolic Syndrome\"\"\"",
         "LLIFT",
         "UNKNOWN",
         "Obesity|NASH - Nonalcoholic Steatohepatitis",
         null,
         "University Hospital, Lille",
         "RHU PreciNASH Task 1.4|Région Nord-Pas de Calais, France",
         "1027",
         "OTHER",
         "OBSERVATIONAL",
         "Observational Model: |Time Perspective: p",
         "2021-02-16"
        ],
        [
         "NCT02519764",
         "\"Evaluation of the Impact of a Hydration Protocol \"\"at Thirst\"\" on Natremia of the Ultra Trail du Mont-Blanc",
         " 2015 Runners\"",
         "NATRITRAIL",
         "COMPLETED",
         "Athletes|Healthy",
         "OTHER: Hydration when thirsty.|OTHER: Not hydration when thirsty",
         "Centre Hospitalier Universitaire de Nīmes",
         "DOKEVER",
         "198",
         "OTHER",
         "INTERVENTIONAL",
         "Allocation: NON_RANDOMIZED|Intervention Model: PARALLEL|Masking: SINGLE (INVESTIGATOR)|Primary Purpose: BASIC_SCIENCE",
         "2015-08"
        ],
        [
         "NCT02127164",
         "Vacuum Assisted Therapy in Emergent Contaminated Abdominal Surgeries",
         null,
         "COMPLETED",
         "Gastrointestinal Injury|Complicated Diverticulitis",
         "\"DEVICE: \"\"Veraflo\"\" device",
         " Dakin's solution\"",
         "University of Arizona",
         "3M",
         "18",
         "OTHER",
         "INTERVENTIONAL",
         "Allocation: NA|Intervention Model: SINGLE_GROUP|Masking: NONE|Primary Purpose: TREATMENT",
         "2014-05"
        ],
        [
         "NCT04747990",
         "coMpliAnce With evideNce-based cliniCal Guidelines in the managemenT of Acute biliaRy pancreAtitis",
         "MANCTRA-1",
         "COMPLETED",
         "Acute Pancreatitis|Acute Pancreatic Necrosis|Acute Pancreatitis Due to Gallstones|Acute Pancreatic Fluid Collection|Acute Pancreatitis With Infected Necrosis|Acute Pancreatitis Without Necrosis or Infection|Acute Pancreatitis Due to Common Bile Duct Calculus|Acute Pancreatitis Recurrent|Acute Pancreatitis Without Necrosis or Infection (Diagnosis)|Covid19",
         "PROCEDURE: Early Definitive Treatment",
         "University of Cagliari",
         "\"Chiara Gerardi - Istituto Di Ricerche Farmacologiche Mario Negri|Federico Coccolini - General, Emergency and Trauma Surgery, Pisa|Salomone di Saverio -Department of Surgery, Varese|Gianluca Pellino - Universitá degli Studi della Campania 'Luigi Vanvitelli', Naples|Francesco Pata - General Surgery Unit, Nicola Giannettasio Hospital, Corigliano-Rossano|Benedetto Ielpo - HPB Surgery Unit, Hospital del Mar, Barcelona|Francesco Virdis - Trauma and Acute Care Surgery Unit, Milan|Dimitrios Damaskos - Royal Infirmary of Edinburgh, Edinburgh|Stavros Gourgiotis - Addenbrooke's Hospital, Cambridge|Gaetano Poillucci - Department of Surgery \"\"Paride Stefanini\"\"",
         " Rome|Daniela Pacella - University of Naples Federico II",
         " Naples|Kumar Jayant- University of Chicago",
         " USA|Ferdinando Agresta- Vittorio Veneto Civil Hospital",
         " Italy|Ari Leppaniemi - University of Helsinki",
         " Finland|Fausto Catena - Maggiore Hospital",
         " Parma|Yoram Kluger - Rambam Health care campus"
        ],
        [
         "NCT00737490",
         "Does Echocardiographically Guided Ventriculo-Ventricular Optimization Yield a Sustained Improvement in Echocardiographic Parameters in Cardiac Resynchronization Therapy Patients? (DEVISE CRT)",
         "Devise-CRT",
         "COMPLETED",
         "Cardiomyopathy|Heart Failure",
         "\"OTHER: \"\"Sequential Arm\"\" (Promote ",
         " model # 2207-36 or Atlas HF ",
         " model # V-343)|OTHER: \"\"Simultaneous Arm\"\" (Promote ",
         " model # 2207-36 or Atlas HF ",
         " model # V-343)\"",
         "Duke University",
         "Abbott Medical Devices",
         "40",
         "OTHER"
        ],
        [
         "NCT04361903",
         "Ruxolitinib for the Treatment of Acute Respiratory Distress Syndrome in Patients With COVID-19 Infection",
         "RESPIRE",
         "UNKNOWN",
         "Severe Acute Respiratory Syndrome Coronavirus 2",
         "DRUG: Ruxolitinib Oral Tablet",
         "Azienda USL Toscana Nord Ovest",
         "\"Fondazione C.N.R./Regione Toscana \"\"G. Monasterio\"\"",
         " Pisa",
         " Italy|Azienda Ospedaliera Universitaria Senese|Azienda Ospedaliero",
         " Universitaria Pisana\"",
         "13",
         "OTHER",
         "OBSERVATIONAL"
        ],
        [
         "NCT00536003",
         "Vaginal Progesterone to Prevent Preterm Delivery in Women With Preterm Labor",
         "4P",
         "TERMINATED",
         "Preterm Delivery|Morbidity|Perinatal Mortality",
         "DRUG: progesterone|DRUG: placebo",
         "begoña Martinez de Tejada",
         "\"Centre Hospitalier Universitaire Vaudois|Insel Gruppe AG, University Hospital Bern|Basel Women's University Hospital|University of Zurich|Kantonsspital Graubuenden|Cantonal Hospital of St. Gallen|Luzerner Kantonsspital|Kantonsspital Winterthur KSW|Besins Laboratory, Belgium|Hospital Bernardino Rivadavia Buenos Aires|Hospital Carlos G. Durand Buenos Aires|CEMIC Buenos Aires|Hospital Donación Francisco Santojanni|Hospital General de Agudos \"\"Dr. Cosme Argerich\"\"|Hospital Dr. T. Alvarez Buenos Aires|Hospital Italiano de Buenos Aires|Hospital J. M. Penna Buenos Aires|Hospital Materno Infantil Ramón Sardá|Hospital Interzonal Alberto Antranik Eurnekian",
         " provincia Buenos Aires|Hospital Municipal Materno Infantil Comodoro Hugo Cesar Meisner",
         " provincia Buenos Aires|Hospital Comunal de Tigre",
         " provincia Buenos Aires|Hospital Dr. Arturo Oñativia",
         " provincia Buenos Aires|Hospital Dr. Carlos Bocalandro",
         " provincia Buenos Aires|Hospital Héroes de Malvinas",
         " provincia Buenos Aires|Hospital Provincial Magdalena V. de Martínez|Hospital Mariano y Luciano de la Vega"
        ],
        [
         "NCT06314243",
         "The Impact of Pumpkin Seed Oil Supplementation on Hemodialysis Patients",
         null,
         "NOT_YET_RECRUITING",
         "Hemodialysis Patients",
         "\"DRUG: Pumpkin Seed Oil \"\" Ronkin®",
         " KMT PHARMA",
         " Egypt. \"\"\"",
         "Ain Shams University",
         null,
         "56",
         "OTHER",
         "INTERVENTIONAL",
         "Allocation: RANDOMIZED|Intervention Model: PARALLEL|Masking: NONE|Primary Purpose: TREATMENT"
        ]
       ],
       "datasetInfos": [],
       "dbfsResultPath": null,
       "isJsonSchema": true,
       "metadata": {},
       "overflow": false,
       "plotOptions": {
        "customPlotOptions": {},
        "displayType": "table",
        "pivotAggregation": null,
        "pivotColumns": null,
        "xColumns": null,
        "yColumns": null
       },
       "removedWidgets": [],
       "schema": [
        {
         "metadata": "{}",
         "name": "NCT Number",
         "type": "\"string\""
        },
        {
         "metadata": "{}",
         "name": "Study Title",
         "type": "\"string\""
        },
        {
         "metadata": "{}",
         "name": "Acronym",
         "type": "\"string\""
        },
        {
         "metadata": "{}",
         "name": "Study Status",
         "type": "\"string\""
        },
        {
         "metadata": "{}",
         "name": "Conditions",
         "type": "\"string\""
        },
        {
         "metadata": "{}",
         "name": "Interventions",
         "type": "\"string\""
        },
        {
         "metadata": "{}",
         "name": "Sponsor",
         "type": "\"string\""
        },
        {
         "metadata": "{}",
         "name": "Collaborators",
         "type": "\"string\""
        },
        {
         "metadata": "{}",
         "name": "Enrollment",
         "type": "\"string\""
        },
        {
         "metadata": "{}",
         "name": "Funder Type",
         "type": "\"string\""
        },
        {
         "metadata": "{}",
         "name": "Study Type",
         "type": "\"string\""
        },
        {
         "metadata": "{}",
         "name": "Study Design",
         "type": "\"string\""
        },
        {
         "metadata": "{}",
         "name": "Start Date",
         "type": "\"string\""
        },
        {
         "metadata": "{}",
         "name": "Completion Date",
         "type": "\"string\""
        }
       ],
       "type": "table"
      }
     },
     "output_type": "display_data"
    }
   ],
   "source": [
    "%sql\n",
    "-- Find rows where `Enrollment` is not an integer\n",
    "SELECT *\n",
    "FROM ClinicalTrials\n",
    "WHERE NOT Enrollment RLIKE '^[0-9]+$'\n",
    "LIMIT 10;"
   ]
  },
  {
   "cell_type": "code",
   "execution_count": 0,
   "metadata": {
    "application/vnd.databricks.v1+cell": {
     "cellMetadata": {
      "byteLimit": 2048000,
      "implicitDf": true,
      "rowLimit": 10000
     },
     "inputWidgets": {},
     "nuid": "311bc246-686b-4e87-a7fe-d89283602069",
     "showTitle": false,
     "tableResultSettingsMap": {},
     "title": ""
    }
   },
   "outputs": [
    {
     "output_type": "display_data",
     "data": {
      "text/html": [
       "<style scoped>\n",
       "  .table-result-container {\n",
       "    max-height: 300px;\n",
       "    overflow: auto;\n",
       "  }\n",
       "  table, th, td {\n",
       "    border: 1px solid black;\n",
       "    border-collapse: collapse;\n",
       "  }\n",
       "  th, td {\n",
       "    padding: 5px;\n",
       "  }\n",
       "  th {\n",
       "    text-align: left;\n",
       "  }\n",
       "</style><div class='table-result-container'><table class='table-result'><thead style='background-color: white'><tr></tr></thead><tbody></tbody></table></div>"
      ]
     },
     "metadata": {
      "application/vnd.databricks.v1+output": {
       "addedWidgets": {},
       "aggData": [],
       "aggError": "",
       "aggOverflow": false,
       "aggSchema": [],
       "aggSeriesLimitReached": false,
       "aggType": "",
       "arguments": {},
       "columnCustomDisplayInfos": {},
       "data": [],
       "datasetInfos": [],
       "dbfsResultPath": null,
       "isJsonSchema": true,
       "metadata": {},
       "overflow": false,
       "plotOptions": {
        "customPlotOptions": {},
        "displayType": "table",
        "pivotAggregation": null,
        "pivotColumns": null,
        "xColumns": null,
        "yColumns": null
       },
       "removedWidgets": [],
       "schema": [],
       "type": "table"
      }
     },
     "output_type": "display_data"
    }
   ],
   "source": [
    "%sql\n",
    "CREATE OR REPLACE TEMPORARY VIEW raw_lines\n",
    "USING text\n",
    "OPTIONS (\n",
    "  path 'dbfs:/FileStore/tables/Clinicaltrial_16012025.csv',\n",
    "  header 'true',\n",
    "  inferSchema 'true'\n",
    ");"
   ]
  },
  {
   "cell_type": "code",
   "execution_count": 0,
   "metadata": {
    "application/vnd.databricks.v1+cell": {
     "cellMetadata": {
      "byteLimit": 2048000,
      "implicitDf": true,
      "rowLimit": 10000
     },
     "inputWidgets": {},
     "nuid": "0560fcb9-8376-4d0f-939a-9c54d675a6d6",
     "showTitle": false,
     "tableResultSettingsMap": {},
     "title": ""
    }
   },
   "outputs": [
    {
     "output_type": "display_data",
     "data": {
      "text/html": [
       "<style scoped>\n",
       "  .table-result-container {\n",
       "    max-height: 300px;\n",
       "    overflow: auto;\n",
       "  }\n",
       "  table, th, td {\n",
       "    border: 1px solid black;\n",
       "    border-collapse: collapse;\n",
       "  }\n",
       "  th, td {\n",
       "    padding: 5px;\n",
       "  }\n",
       "  th {\n",
       "    text-align: left;\n",
       "  }\n",
       "</style><div class='table-result-container'><table class='table-result'><thead style='background-color: white'><tr></tr></thead><tbody></tbody></table></div>"
      ]
     },
     "metadata": {
      "application/vnd.databricks.v1+output": {
       "addedWidgets": {},
       "aggData": [],
       "aggError": "",
       "aggOverflow": false,
       "aggSchema": [],
       "aggSeriesLimitReached": false,
       "aggType": "",
       "arguments": {},
       "columnCustomDisplayInfos": {},
       "data": [],
       "datasetInfos": [],
       "dbfsResultPath": null,
       "isJsonSchema": true,
       "metadata": {},
       "overflow": false,
       "plotOptions": {
        "customPlotOptions": {},
        "displayType": "table",
        "pivotAggregation": null,
        "pivotColumns": null,
        "xColumns": null,
        "yColumns": null
       },
       "removedWidgets": [],
       "schema": [],
       "type": "table"
      }
     },
     "output_type": "display_data"
    }
   ],
   "source": [
    "%sql\n",
    "CREATE OR REPLACE TEMPORARY VIEW ClinicalTrials_Clean AS\n",
    "SELECT\n",
    "  regexp_replace(\n",
    "    value,\n",
    "    '(?<=\\\\d)\"(?=\\\\d)',   \n",
    "    ''                     -- removes any \" symbol between digits\n",
    "  ) AS value\n",
    "FROM raw_lines;"
   ]
  },
  {
   "cell_type": "code",
   "execution_count": 0,
   "metadata": {
    "application/vnd.databricks.v1+cell": {
     "cellMetadata": {
      "byteLimit": 2048000,
      "implicitDf": true,
      "rowLimit": 10000
     },
     "inputWidgets": {},
     "nuid": "425ac03a-8653-428d-9dcb-c98d39059c46",
     "showTitle": false,
     "tableResultSettingsMap": {},
     "title": ""
    }
   },
   "outputs": [
    {
     "output_type": "display_data",
     "data": {
      "text/html": [
       "<style scoped>\n",
       "  .table-result-container {\n",
       "    max-height: 300px;\n",
       "    overflow: auto;\n",
       "  }\n",
       "  table, th, td {\n",
       "    border: 1px solid black;\n",
       "    border-collapse: collapse;\n",
       "  }\n",
       "  th, td {\n",
       "    padding: 5px;\n",
       "  }\n",
       "  th {\n",
       "    text-align: left;\n",
       "  }\n",
       "</style><div class='table-result-container'><table class='table-result'><thead style='background-color: white'><tr></tr></thead><tbody></tbody></table></div>"
      ]
     },
     "metadata": {
      "application/vnd.databricks.v1+output": {
       "addedWidgets": {},
       "aggData": [],
       "aggError": "",
       "aggOverflow": false,
       "aggSchema": [],
       "aggSeriesLimitReached": false,
       "aggType": "",
       "arguments": {},
       "columnCustomDisplayInfos": {},
       "data": [],
       "datasetInfos": [],
       "dbfsResultPath": null,
       "isJsonSchema": true,
       "metadata": {},
       "overflow": false,
       "plotOptions": {
        "customPlotOptions": {},
        "displayType": "table",
        "pivotAggregation": null,
        "pivotColumns": null,
        "xColumns": null,
        "yColumns": null
       },
       "removedWidgets": [],
       "schema": [],
       "type": "table"
      }
     },
     "output_type": "display_data"
    }
   ],
   "source": [
    "%sql\n",
    "INSERT OVERWRITE DIRECTORY 'dbfs:/FileStore/tables/Clinicaltrial_16012025_clean.csv'\n",
    "USING text\n",
    "SELECT value\n",
    "FROM ClinicalTrials_Clean;\n"
   ]
  },
  {
   "cell_type": "code",
   "execution_count": 0,
   "metadata": {
    "application/vnd.databricks.v1+cell": {
     "cellMetadata": {
      "byteLimit": 2048000,
      "implicitDf": true,
      "rowLimit": 10000
     },
     "inputWidgets": {},
     "nuid": "7ffe2d46-11d7-49c7-b122-3b98c8a5971d",
     "showTitle": false,
     "tableResultSettingsMap": {},
     "title": ""
    }
   },
   "outputs": [
    {
     "output_type": "display_data",
     "data": {
      "text/html": [
       "<style scoped>\n",
       "  .table-result-container {\n",
       "    max-height: 300px;\n",
       "    overflow: auto;\n",
       "  }\n",
       "  table, th, td {\n",
       "    border: 1px solid black;\n",
       "    border-collapse: collapse;\n",
       "  }\n",
       "  th, td {\n",
       "    padding: 5px;\n",
       "  }\n",
       "  th {\n",
       "    text-align: left;\n",
       "  }\n",
       "</style><div class='table-result-container'><table class='table-result'><thead style='background-color: white'><tr></tr></thead><tbody></tbody></table></div>"
      ]
     },
     "metadata": {
      "application/vnd.databricks.v1+output": {
       "addedWidgets": {},
       "aggData": [],
       "aggError": "",
       "aggOverflow": false,
       "aggSchema": [],
       "aggSeriesLimitReached": false,
       "aggType": "",
       "arguments": {},
       "columnCustomDisplayInfos": {},
       "data": [],
       "datasetInfos": [],
       "dbfsResultPath": null,
       "isJsonSchema": true,
       "metadata": {},
       "overflow": false,
       "plotOptions": {
        "customPlotOptions": {},
        "displayType": "table",
        "pivotAggregation": null,
        "pivotColumns": null,
        "xColumns": null,
        "yColumns": null
       },
       "removedWidgets": [],
       "schema": [],
       "type": "table"
      }
     },
     "output_type": "display_data"
    }
   ],
   "source": [
    "%sql\n",
    "CREATE OR REPLACE TEMPORARY VIEW ClinicalTrials\n",
    "USING CSV\n",
    "OPTIONS (\n",
    "  path               \"dbfs:/FileStore/tables/Clinicaltrial_16012025_clean.csv\",\n",
    "  header             \"true\",\n",
    "  inferSchema        \"true\",\n",
    "  quote              \"\\\"\",\n",
    "  escape             \"\\\"\"\n",
    ");\n"
   ]
  },
  {
   "cell_type": "markdown",
   "metadata": {
    "application/vnd.databricks.v1+cell": {
     "cellMetadata": {
      "byteLimit": 2048000,
      "rowLimit": 10000
     },
     "inputWidgets": {},
     "nuid": "ef734e92-8124-4542-9697-a94085defa20",
     "showTitle": false,
     "tableResultSettingsMap": {},
     "title": ""
    }
   },
   "source": [
    "#### Data Preprocessing\n",
    "\n",
    "1. Firstly, we identified any rows which did not have an integer value in the `Enrollment` attribute. This was done using a pure integer regex. The results confirmed that stray `\"` characters were causing the problems, as these were found in cells before mis-parsing occurred.\n",
    "2. Next, we loaded each line of the original CSV into a temporary view so that we could manipulate the original text.\n",
    "3. Using a regex replace, we removed any examples of `\"` which appeared between digits. This would keep the valid quotes throughout the text, and allow the CSV to be parsed properly.\n",
    "4. We then wrote the cleaned text lines into a new directory via `INSERT OVERWRITE DIRECTORY`. This preserves the original structure of the CSV, while replacing the faulty records with cleaned records.\n",
    "5. Finally, the new table `ClinicalTrials` was created with standard `header` and `inferSchema` settings. This would ensure all of the columns were of the correct data_type, as can be seen below, and that there were the correct amount of categories of `Study Type`."
   ]
  },
  {
   "cell_type": "code",
   "execution_count": 0,
   "metadata": {
    "application/vnd.databricks.v1+cell": {
     "cellMetadata": {
      "byteLimit": 2048000,
      "implicitDf": true,
      "rowLimit": 10000
     },
     "inputWidgets": {},
     "nuid": "075ff5a5-ca06-4433-b91a-047cc3cd7cab",
     "showTitle": false,
     "tableResultSettingsMap": {},
     "title": ""
    }
   },
   "outputs": [
    {
     "output_type": "display_data",
     "data": {
      "text/html": [
       "<style scoped>\n",
       "  .table-result-container {\n",
       "    max-height: 300px;\n",
       "    overflow: auto;\n",
       "  }\n",
       "  table, th, td {\n",
       "    border: 1px solid black;\n",
       "    border-collapse: collapse;\n",
       "  }\n",
       "  th, td {\n",
       "    padding: 5px;\n",
       "  }\n",
       "  th {\n",
       "    text-align: left;\n",
       "  }\n",
       "</style><div class='table-result-container'><table class='table-result'><thead style='background-color: white'><tr><th>col_name</th><th>data_type</th><th>comment</th></tr></thead><tbody><tr><td>NCT Number</td><td>string</td><td>null</td></tr><tr><td>Study Title</td><td>string</td><td>null</td></tr><tr><td>Acronym</td><td>string</td><td>null</td></tr><tr><td>Study Status</td><td>string</td><td>null</td></tr><tr><td>Conditions</td><td>string</td><td>null</td></tr><tr><td>Interventions</td><td>string</td><td>null</td></tr><tr><td>Sponsor</td><td>string</td><td>null</td></tr><tr><td>Collaborators</td><td>string</td><td>null</td></tr><tr><td>Enrollment</td><td>int</td><td>null</td></tr><tr><td>Funder Type</td><td>string</td><td>null</td></tr><tr><td>Study Type</td><td>string</td><td>null</td></tr><tr><td>Study Design</td><td>string</td><td>null</td></tr><tr><td>Start Date</td><td>timestamp</td><td>null</td></tr><tr><td>Completion Date</td><td>timestamp</td><td>null</td></tr></tbody></table></div>"
      ]
     },
     "metadata": {
      "application/vnd.databricks.v1+output": {
       "addedWidgets": {},
       "aggData": [],
       "aggError": "",
       "aggOverflow": false,
       "aggSchema": [],
       "aggSeriesLimitReached": false,
       "aggType": "",
       "arguments": {},
       "columnCustomDisplayInfos": {},
       "data": [
        [
         "NCT Number",
         "string",
         null
        ],
        [
         "Study Title",
         "string",
         null
        ],
        [
         "Acronym",
         "string",
         null
        ],
        [
         "Study Status",
         "string",
         null
        ],
        [
         "Conditions",
         "string",
         null
        ],
        [
         "Interventions",
         "string",
         null
        ],
        [
         "Sponsor",
         "string",
         null
        ],
        [
         "Collaborators",
         "string",
         null
        ],
        [
         "Enrollment",
         "int",
         null
        ],
        [
         "Funder Type",
         "string",
         null
        ],
        [
         "Study Type",
         "string",
         null
        ],
        [
         "Study Design",
         "string",
         null
        ],
        [
         "Start Date",
         "timestamp",
         null
        ],
        [
         "Completion Date",
         "timestamp",
         null
        ]
       ],
       "datasetInfos": [],
       "dbfsResultPath": null,
       "isJsonSchema": true,
       "metadata": {},
       "overflow": false,
       "plotOptions": {
        "customPlotOptions": {},
        "displayType": "table",
        "pivotAggregation": null,
        "pivotColumns": null,
        "xColumns": null,
        "yColumns": null
       },
       "removedWidgets": [],
       "schema": [
        {
         "metadata": "{\"comment\":\"name of the column\"}",
         "name": "col_name",
         "type": "\"string\""
        },
        {
         "metadata": "{\"comment\":\"data type of the column\"}",
         "name": "data_type",
         "type": "\"string\""
        },
        {
         "metadata": "{\"comment\":\"comment of the column\"}",
         "name": "comment",
         "type": "\"string\""
        }
       ],
       "type": "table"
      }
     },
     "output_type": "display_data"
    }
   ],
   "source": [
    "%sql\n",
    "DESCRIBE TABLE ClinicalTrials;"
   ]
  },
  {
   "cell_type": "code",
   "execution_count": 0,
   "metadata": {
    "application/vnd.databricks.v1+cell": {
     "cellMetadata": {
      "byteLimit": 2048000,
      "implicitDf": true,
      "rowLimit": 10000
     },
     "inputWidgets": {},
     "nuid": "0d450df1-8297-4178-9e21-dac150c97c51",
     "showTitle": false,
     "tableResultSettingsMap": {},
     "title": ""
    }
   },
   "outputs": [
    {
     "output_type": "display_data",
     "data": {
      "text/html": [
       "<style scoped>\n",
       "  .table-result-container {\n",
       "    max-height: 300px;\n",
       "    overflow: auto;\n",
       "  }\n",
       "  table, th, td {\n",
       "    border: 1px solid black;\n",
       "    border-collapse: collapse;\n",
       "  }\n",
       "  th, td {\n",
       "    padding: 5px;\n",
       "  }\n",
       "  th {\n",
       "    text-align: left;\n",
       "  }\n",
       "</style><div class='table-result-container'><table class='table-result'><thead style='background-color: white'><tr><th>num_study_types</th></tr></thead><tbody><tr><td>3</td></tr></tbody></table></div>"
      ]
     },
     "metadata": {
      "application/vnd.databricks.v1+output": {
       "addedWidgets": {},
       "aggData": [],
       "aggError": "",
       "aggOverflow": false,
       "aggSchema": [],
       "aggSeriesLimitReached": false,
       "aggType": "",
       "arguments": {},
       "columnCustomDisplayInfos": {},
       "data": [
        [
         3
        ]
       ],
       "datasetInfos": [],
       "dbfsResultPath": null,
       "isJsonSchema": true,
       "metadata": {},
       "overflow": false,
       "plotOptions": {
        "customPlotOptions": {},
        "displayType": "table",
        "pivotAggregation": null,
        "pivotColumns": null,
        "xColumns": null,
        "yColumns": null
       },
       "removedWidgets": [],
       "schema": [
        {
         "metadata": "{}",
         "name": "num_study_types",
         "type": "\"long\""
        }
       ],
       "type": "table"
      }
     },
     "output_type": "display_data"
    }
   ],
   "source": [
    "%sql\n",
    "SELECT\n",
    "  COUNT(DISTINCT `Study Type`) AS num_study_types\n",
    "FROM ClinicalTrials;"
   ]
  },
  {
   "cell_type": "markdown",
   "metadata": {
    "application/vnd.databricks.v1+cell": {
     "cellMetadata": {
      "byteLimit": 2048000,
      "rowLimit": 10000
     },
     "inputWidgets": {},
     "nuid": "74fdb62d-9778-4be1-9d8d-d3e9c9780862",
     "showTitle": false,
     "tableResultSettingsMap": {},
     "title": ""
    }
   },
   "source": [
    "#### Question 1: Frequency of Study Types\n",
    "\n",
    "First, we determine how many trials fall into each study type to understand which designs are most common. We:\n",
    "\n",
    "1. **Group** the data by the `Study Type` column.  \n",
    "2. **Count** the number of trials for each type using `COUNT(*)`.  \n",
    "3. **Order** the results in descending order so the most frequent types appear first.\n",
    "\n",
    "This query reveals the distribution of the 4 different study types. There are 966 examples of `EXPANDED_ACCESS`, which are rarer than the usual two categories, meanwhile the 900 null rows correspond with trials with withheld study status and redacted information.\n",
    "\n"
   ]
  },
  {
   "cell_type": "code",
   "execution_count": 0,
   "metadata": {
    "application/vnd.databricks.v1+cell": {
     "cellMetadata": {
      "byteLimit": 2048000,
      "implicitDf": true,
      "rowLimit": 10000
     },
     "inputWidgets": {},
     "nuid": "8eeb1143-4d5c-45a2-a882-c7d8050636d5",
     "showTitle": false,
     "tableResultSettingsMap": {},
     "title": ""
    }
   },
   "outputs": [
    {
     "output_type": "display_data",
     "data": {
      "text/html": [
       "<style scoped>\n",
       "  .table-result-container {\n",
       "    max-height: 300px;\n",
       "    overflow: auto;\n",
       "  }\n",
       "  table, th, td {\n",
       "    border: 1px solid black;\n",
       "    border-collapse: collapse;\n",
       "  }\n",
       "  th, td {\n",
       "    padding: 5px;\n",
       "  }\n",
       "  th {\n",
       "    text-align: left;\n",
       "  }\n",
       "</style><div class='table-result-container'><table class='table-result'><thead style='background-color: white'><tr><th>study_type</th><th>frequency</th></tr></thead><tbody><tr><td>INTERVENTIONAL</td><td>399883</td></tr><tr><td>OBSERVATIONAL</td><td>120904</td></tr><tr><td>EXPANDED_ACCESS</td><td>966</td></tr><tr><td>null</td><td>900</td></tr></tbody></table></div>"
      ]
     },
     "metadata": {
      "application/vnd.databricks.v1+output": {
       "addedWidgets": {},
       "aggData": [],
       "aggError": "",
       "aggOverflow": false,
       "aggSchema": [],
       "aggSeriesLimitReached": false,
       "aggType": "",
       "arguments": {},
       "columnCustomDisplayInfos": {},
       "data": [
        [
         "INTERVENTIONAL",
         399883
        ],
        [
         "OBSERVATIONAL",
         120904
        ],
        [
         "EXPANDED_ACCESS",
         966
        ],
        [
         null,
         900
        ]
       ],
       "datasetInfos": [],
       "dbfsResultPath": null,
       "isJsonSchema": true,
       "metadata": {},
       "overflow": false,
       "plotOptions": {
        "customPlotOptions": {},
        "displayType": "table",
        "pivotAggregation": null,
        "pivotColumns": null,
        "xColumns": null,
        "yColumns": null
       },
       "removedWidgets": [],
       "schema": [
        {
         "metadata": "{}",
         "name": "study_type",
         "type": "\"string\""
        },
        {
         "metadata": "{}",
         "name": "frequency",
         "type": "\"long\""
        }
       ],
       "type": "table"
      }
     },
     "output_type": "display_data"
    }
   ],
   "source": [
    "%sql\n",
    "-- Question 1: List the three clinical trial types (Study Type) and their frequency, sorted descending.\n",
    "SELECT\n",
    "  `Study Type`   AS study_type,\n",
    "  COUNT(*)       AS frequency\n",
    "FROM ClinicalTrials\n",
    "GROUP BY `Study Type`\n",
    "ORDER BY frequency DESC;"
   ]
  },
  {
   "cell_type": "code",
   "execution_count": 0,
   "metadata": {
    "application/vnd.databricks.v1+cell": {
     "cellMetadata": {
      "byteLimit": 2048000,
      "implicitDf": true,
      "rowLimit": 10000
     },
     "inputWidgets": {},
     "nuid": "b95618e8-35d0-4d51-971b-e33a5b6b7283",
     "showTitle": false,
     "tableResultSettingsMap": {},
     "title": ""
    }
   },
   "outputs": [
    {
     "output_type": "display_data",
     "data": {
      "text/html": [
       "<style scoped>\n",
       "  .table-result-container {\n",
       "    max-height: 300px;\n",
       "    overflow: auto;\n",
       "  }\n",
       "  table, th, td {\n",
       "    border: 1px solid black;\n",
       "    border-collapse: collapse;\n",
       "  }\n",
       "  th, td {\n",
       "    padding: 5px;\n",
       "  }\n",
       "  th {\n",
       "    text-align: left;\n",
       "  }\n",
       "</style><div class='table-result-container'><table class='table-result'><thead style='background-color: white'><tr><th>NCT Number</th><th>Study Title</th><th>Acronym</th><th>Study Status</th><th>Conditions</th><th>Interventions</th><th>Sponsor</th><th>Collaborators</th><th>Enrollment</th><th>Funder Type</th><th>Study Type</th><th>Study Design</th><th>Start Date</th><th>Completion Date</th></tr></thead><tbody><tr><td>NCT01470079</td><td>[Trial of device that is not approved or cleared by the U.S. FDA]</td><td>null</td><td>WITHHELD</td><td>null</td><td>null</td><td>[Redacted]</td><td>null</td><td>null</td><td>null</td><td>null</td><td>null</td><td>null</td><td>null</td></tr><tr><td>NCT05674279</td><td>[Trial of device that is not approved or cleared by the U.S. FDA]</td><td>null</td><td>WITHHELD</td><td>null</td><td>null</td><td>[Redacted]</td><td>null</td><td>null</td><td>null</td><td>null</td><td>null</td><td>null</td><td>null</td></tr><tr><td>NCT01662479</td><td>[Trial of device that is not approved or cleared by the U.S. FDA]</td><td>null</td><td>WITHHELD</td><td>null</td><td>null</td><td>[Redacted]</td><td>null</td><td>null</td><td>null</td><td>null</td><td>null</td><td>null</td><td>null</td></tr><tr><td>NCT05395884</td><td>[Trial of device that is not approved or cleared by the U.S. FDA]</td><td>null</td><td>WITHHELD</td><td>null</td><td>null</td><td>[Redacted]</td><td>null</td><td>null</td><td>null</td><td>null</td><td>null</td><td>null</td><td>null</td></tr><tr><td>NCT04787484</td><td>[Trial of device that is not approved or cleared by the U.S. FDA]</td><td>null</td><td>WITHHELD</td><td>null</td><td>null</td><td>[Redacted]</td><td>null</td><td>null</td><td>null</td><td>null</td><td>null</td><td>null</td><td>null</td></tr><tr><td>NCT02474784</td><td>[Trial of device that is not approved or cleared by the U.S. FDA]</td><td>null</td><td>WITHHELD</td><td>null</td><td>null</td><td>[Redacted]</td><td>null</td><td>null</td><td>null</td><td>null</td><td>null</td><td>null</td><td>null</td></tr><tr><td>NCT03967184</td><td>[Trial of device that is not approved or cleared by the U.S. FDA]</td><td>null</td><td>WITHHELD</td><td>null</td><td>null</td><td>[Redacted]</td><td>null</td><td>null</td><td>null</td><td>null</td><td>null</td><td>null</td><td>null</td></tr><tr><td>NCT01008202</td><td>[Trial of device that is not approved or cleared by the U.S. FDA]</td><td>null</td><td>WITHHELD</td><td>null</td><td>null</td><td>[Redacted]</td><td>null</td><td>null</td><td>null</td><td>null</td><td>null</td><td>null</td><td>null</td></tr><tr><td>NCT05059002</td><td>[Trial of device that is not approved or cleared by the U.S. FDA]</td><td>null</td><td>WITHHELD</td><td>null</td><td>null</td><td>[Redacted]</td><td>null</td><td>null</td><td>null</td><td>null</td><td>null</td><td>null</td><td>null</td></tr><tr><td>NCT05694702</td><td>[Trial of device that is not approved or cleared by the U.S. FDA]</td><td>null</td><td>WITHHELD</td><td>null</td><td>null</td><td>[Redacted]</td><td>null</td><td>null</td><td>null</td><td>null</td><td>null</td><td>null</td><td>null</td></tr></tbody></table></div>"
      ]
     },
     "metadata": {
      "application/vnd.databricks.v1+output": {
       "addedWidgets": {},
       "aggData": [],
       "aggError": "",
       "aggOverflow": false,
       "aggSchema": [],
       "aggSeriesLimitReached": false,
       "aggType": "",
       "arguments": {},
       "columnCustomDisplayInfos": {},
       "data": [
        [
         "NCT01470079",
         "[Trial of device that is not approved or cleared by the U.S. FDA]",
         null,
         "WITHHELD",
         null,
         null,
         "[Redacted]",
         null,
         null,
         null,
         null,
         null,
         null,
         null
        ],
        [
         "NCT05674279",
         "[Trial of device that is not approved or cleared by the U.S. FDA]",
         null,
         "WITHHELD",
         null,
         null,
         "[Redacted]",
         null,
         null,
         null,
         null,
         null,
         null,
         null
        ],
        [
         "NCT01662479",
         "[Trial of device that is not approved or cleared by the U.S. FDA]",
         null,
         "WITHHELD",
         null,
         null,
         "[Redacted]",
         null,
         null,
         null,
         null,
         null,
         null,
         null
        ],
        [
         "NCT05395884",
         "[Trial of device that is not approved or cleared by the U.S. FDA]",
         null,
         "WITHHELD",
         null,
         null,
         "[Redacted]",
         null,
         null,
         null,
         null,
         null,
         null,
         null
        ],
        [
         "NCT04787484",
         "[Trial of device that is not approved or cleared by the U.S. FDA]",
         null,
         "WITHHELD",
         null,
         null,
         "[Redacted]",
         null,
         null,
         null,
         null,
         null,
         null,
         null
        ],
        [
         "NCT02474784",
         "[Trial of device that is not approved or cleared by the U.S. FDA]",
         null,
         "WITHHELD",
         null,
         null,
         "[Redacted]",
         null,
         null,
         null,
         null,
         null,
         null,
         null
        ],
        [
         "NCT03967184",
         "[Trial of device that is not approved or cleared by the U.S. FDA]",
         null,
         "WITHHELD",
         null,
         null,
         "[Redacted]",
         null,
         null,
         null,
         null,
         null,
         null,
         null
        ],
        [
         "NCT01008202",
         "[Trial of device that is not approved or cleared by the U.S. FDA]",
         null,
         "WITHHELD",
         null,
         null,
         "[Redacted]",
         null,
         null,
         null,
         null,
         null,
         null,
         null
        ],
        [
         "NCT05059002",
         "[Trial of device that is not approved or cleared by the U.S. FDA]",
         null,
         "WITHHELD",
         null,
         null,
         "[Redacted]",
         null,
         null,
         null,
         null,
         null,
         null,
         null
        ],
        [
         "NCT05694702",
         "[Trial of device that is not approved or cleared by the U.S. FDA]",
         null,
         "WITHHELD",
         null,
         null,
         "[Redacted]",
         null,
         null,
         null,
         null,
         null,
         null,
         null
        ]
       ],
       "datasetInfos": [],
       "dbfsResultPath": null,
       "isJsonSchema": true,
       "metadata": {},
       "overflow": false,
       "plotOptions": {
        "customPlotOptions": {},
        "displayType": "table",
        "pivotAggregation": null,
        "pivotColumns": null,
        "xColumns": null,
        "yColumns": null
       },
       "removedWidgets": [],
       "schema": [
        {
         "metadata": "{}",
         "name": "NCT Number",
         "type": "\"string\""
        },
        {
         "metadata": "{}",
         "name": "Study Title",
         "type": "\"string\""
        },
        {
         "metadata": "{}",
         "name": "Acronym",
         "type": "\"string\""
        },
        {
         "metadata": "{}",
         "name": "Study Status",
         "type": "\"string\""
        },
        {
         "metadata": "{}",
         "name": "Conditions",
         "type": "\"string\""
        },
        {
         "metadata": "{}",
         "name": "Interventions",
         "type": "\"string\""
        },
        {
         "metadata": "{}",
         "name": "Sponsor",
         "type": "\"string\""
        },
        {
         "metadata": "{}",
         "name": "Collaborators",
         "type": "\"string\""
        },
        {
         "metadata": "{}",
         "name": "Enrollment",
         "type": "\"integer\""
        },
        {
         "metadata": "{}",
         "name": "Funder Type",
         "type": "\"string\""
        },
        {
         "metadata": "{}",
         "name": "Study Type",
         "type": "\"string\""
        },
        {
         "metadata": "{}",
         "name": "Study Design",
         "type": "\"string\""
        },
        {
         "metadata": "{}",
         "name": "Start Date",
         "type": "\"timestamp\""
        },
        {
         "metadata": "{}",
         "name": "Completion Date",
         "type": "\"timestamp\""
        }
       ],
       "type": "table"
      }
     },
     "output_type": "display_data"
    }
   ],
   "source": [
    "%sql\n",
    "-- List rows where Study Type is NULL.\n",
    "SELECT *\n",
    "FROM ClinicalTrials\n",
    "WHERE `Study Type` IS NULL\n",
    "LIMIT 10;"
   ]
  },
  {
   "cell_type": "markdown",
   "metadata": {
    "application/vnd.databricks.v1+cell": {
     "cellMetadata": {
      "byteLimit": 2048000,
      "rowLimit": 10000
     },
     "inputWidgets": {},
     "nuid": "94f46a05-8658-4309-a2ec-d1853d25e970",
     "showTitle": false,
     "tableResultSettingsMap": {},
     "title": ""
    }
   },
   "source": [
    "#### Question 2: Top 10 Conditions by Frequency\n",
    "\n",
    "Next, we determine which conditions were most frequently tracked during the clinical trials. As more than one condition can be tracked per trial, and multiple values were found in the `Conditions` column per row, we must first “flatten” these lists so each condition appears as its own record. We found in the EDA stage that each condition is separated by the `|` delimiter. Therefore, we:\n",
    "\n",
    "1. **Use** the `split(Conditions, '\\\\|')` function to break each string into an array of individual conditions.\n",
    "2. **Normalise** the data using `explode()`, creating a new row for each element.\n",
    "3. **Trim** each condition to remove potential whitespaces from causing duplicates in the data.\n",
    "4. **Group by** the trimmed condition, and count all occurences.\n",
    "5. **Limit** the results to show the top 10 entries in `DESC` order.\n",
    "\n",
    "This gives a list of the ten most commonly investigated conditions across all clinical trials. "
   ]
  },
  {
   "cell_type": "code",
   "execution_count": 0,
   "metadata": {
    "application/vnd.databricks.v1+cell": {
     "cellMetadata": {
      "byteLimit": 2048000,
      "implicitDf": true,
      "rowLimit": 10000
     },
     "inputWidgets": {},
     "nuid": "5d90ef1e-f548-43d7-83c5-0381a98f901c",
     "showTitle": false,
     "tableResultSettingsMap": {},
     "title": ""
    }
   },
   "outputs": [
    {
     "output_type": "display_data",
     "data": {
      "text/html": [
       "<style scoped>\n",
       "  .table-result-container {\n",
       "    max-height: 300px;\n",
       "    overflow: auto;\n",
       "  }\n",
       "  table, th, td {\n",
       "    border: 1px solid black;\n",
       "    border-collapse: collapse;\n",
       "  }\n",
       "  th, td {\n",
       "    padding: 5px;\n",
       "  }\n",
       "  th {\n",
       "    text-align: left;\n",
       "  }\n",
       "</style><div class='table-result-container'><table class='table-result'><thead style='background-color: white'><tr><th>condition</th><th>frequency</th></tr></thead><tbody><tr><td>Healthy</td><td>10309</td></tr><tr><td>Breast Cancer</td><td>7941</td></tr><tr><td>Obesity</td><td>6954</td></tr><tr><td>Stroke</td><td>4484</td></tr><tr><td>Hypertension</td><td>4255</td></tr><tr><td>Depression</td><td>4196</td></tr><tr><td>Prostate Cancer</td><td>4071</td></tr><tr><td>Pain</td><td>4057</td></tr><tr><td>HIV Infections</td><td>3819</td></tr><tr><td>Cancer</td><td>3529</td></tr></tbody></table></div>"
      ]
     },
     "metadata": {
      "application/vnd.databricks.v1+output": {
       "addedWidgets": {},
       "aggData": [],
       "aggError": "",
       "aggOverflow": false,
       "aggSchema": [],
       "aggSeriesLimitReached": false,
       "aggType": "",
       "arguments": {},
       "columnCustomDisplayInfos": {},
       "data": [
        [
         "Healthy",
         10309
        ],
        [
         "Breast Cancer",
         7941
        ],
        [
         "Obesity",
         6954
        ],
        [
         "Stroke",
         4484
        ],
        [
         "Hypertension",
         4255
        ],
        [
         "Depression",
         4196
        ],
        [
         "Prostate Cancer",
         4071
        ],
        [
         "Pain",
         4057
        ],
        [
         "HIV Infections",
         3819
        ],
        [
         "Cancer",
         3529
        ]
       ],
       "datasetInfos": [],
       "dbfsResultPath": null,
       "isJsonSchema": true,
       "metadata": {},
       "overflow": false,
       "plotOptions": {
        "customPlotOptions": {},
        "displayType": "table",
        "pivotAggregation": null,
        "pivotColumns": null,
        "xColumns": null,
        "yColumns": null
       },
       "removedWidgets": [],
       "schema": [
        {
         "metadata": "{}",
         "name": "condition",
         "type": "\"string\""
        },
        {
         "metadata": "{}",
         "name": "frequency",
         "type": "\"long\""
        }
       ],
       "type": "table"
      }
     },
     "output_type": "display_data"
    }
   ],
   "source": [
    "%sql\n",
    "-- Question 2: Extract and count individual conditions, splitting on '|'\n",
    "SELECT\n",
    "  trim(condition) AS condition,\n",
    "  COUNT(*)        AS frequency\n",
    "FROM (\n",
    "  -- explode each Conditions string into multiple rows\n",
    "  SELECT explode(split(Conditions, '\\\\|')) AS condition\n",
    "  FROM ClinicalTrials\n",
    "  WHERE Conditions IS NOT NULL\n",
    ") exploded\n",
    "GROUP BY trim(condition)\n",
    "ORDER BY frequency DESC\n",
    "LIMIT 10;"
   ]
  },
  {
   "cell_type": "markdown",
   "metadata": {
    "application/vnd.databricks.v1+cell": {
     "cellMetadata": {
      "byteLimit": 2048000,
      "rowLimit": 10000
     },
     "inputWidgets": {},
     "nuid": "008cd94d-1d89-40fd-9df4-fc8fa267eb43",
     "showTitle": false,
     "tableResultSettingsMap": {},
     "title": ""
    }
   },
   "source": [
    "#### Question 3: Mean Clinical Trial Length in Months\n",
    "\n",
    "Next, we calculate the average duration (in months) for studies which have both start and completion dates recorded. We learnt in the EDA stage that the date columns have two date formats: `yyyy-mm-dd` and `yyyy-mm`, so we use `coalesce` to ensure all the strings are parsed correctly. The important steps are as follows:\n",
    "\n",
    "1. **Filter** out trials with NULL `Start Date` or `Completion Date`.\n",
    "2. **Parse** dates using a combination of `coalesce` and `to_date`. The former function takes the non-null value of the two values given by the latter function, and the latter function will always provide at most one non-null value (if there are two non-null values, the row is discarded due to the first step).\n",
    "3. **Compute** the difference in months with the `months_between` function.\n",
    "4. **Obtain** the mean length using `AVG()`.\n",
    "\n",
    "The mean clinical trial length in months is around 35.6, and this provides a robust measure of the average trial."
   ]
  },
  {
   "cell_type": "code",
   "execution_count": 0,
   "metadata": {
    "application/vnd.databricks.v1+cell": {
     "cellMetadata": {
      "byteLimit": 2048000,
      "implicitDf": true,
      "rowLimit": 10000
     },
     "inputWidgets": {},
     "nuid": "4cf671bf-c778-4b9e-9c3d-6efdf24ada1e",
     "showTitle": false,
     "tableResultSettingsMap": {},
     "title": ""
    }
   },
   "outputs": [
    {
     "output_type": "display_data",
     "data": {
      "text/html": [
       "<style scoped>\n",
       "  .table-result-container {\n",
       "    max-height: 300px;\n",
       "    overflow: auto;\n",
       "  }\n",
       "  table, th, td {\n",
       "    border: 1px solid black;\n",
       "    border-collapse: collapse;\n",
       "  }\n",
       "  th, td {\n",
       "    padding: 5px;\n",
       "  }\n",
       "  th {\n",
       "    text-align: left;\n",
       "  }\n",
       "</style><div class='table-result-container'><table class='table-result'><thead style='background-color: white'><tr><th>avg_trial_length_months</th></tr></thead><tbody><tr><td>35.571426600558915</td></tr></tbody></table></div>"
      ]
     },
     "metadata": {
      "application/vnd.databricks.v1+output": {
       "addedWidgets": {},
       "aggData": [],
       "aggError": "",
       "aggOverflow": false,
       "aggSchema": [],
       "aggSeriesLimitReached": false,
       "aggType": "",
       "arguments": {},
       "columnCustomDisplayInfos": {},
       "data": [
        [
         35.571426600558915
        ]
       ],
       "datasetInfos": [],
       "dbfsResultPath": null,
       "isJsonSchema": true,
       "metadata": {},
       "overflow": false,
       "plotOptions": {
        "customPlotOptions": {},
        "displayType": "table",
        "pivotAggregation": null,
        "pivotColumns": null,
        "xColumns": null,
        "yColumns": null
       },
       "removedWidgets": [],
       "schema": [
        {
         "metadata": "{}",
         "name": "avg_trial_length_months",
         "type": "\"double\""
        }
       ],
       "type": "table"
      }
     },
     "output_type": "display_data"
    }
   ],
   "source": [
    "%sql\n",
    "-- Question 3: Calculate the mean clinical trial length (in months),\n",
    "-- handling both full dates (yyyy-MM-dd) and year-month only (yyyy-MM).\n",
    "SELECT\n",
    "  AVG(\n",
    "    months_between(\n",
    "      -- Either yields full date or month date\n",
    "      coalesce(\n",
    "        to_date(`Completion Date`, 'yyyy-MM-dd'),\n",
    "        to_date(`Completion Date`, 'yyyy-MM')\n",
    "      ),\n",
    "      coalesce(\n",
    "        to_date(`Start Date`,      'yyyy-MM-dd'),\n",
    "        to_date(`Start Date`,      'yyyy-MM')\n",
    "      )\n",
    "    )\n",
    "  ) AS avg_trial_length_months\n",
    "FROM ClinicalTrials\n",
    "WHERE `Start Date`      IS NOT NULL\n",
    "  AND `Completion Date` IS NOT NULL;"
   ]
  },
  {
   "cell_type": "markdown",
   "metadata": {
    "application/vnd.databricks.v1+cell": {
     "cellMetadata": {
      "byteLimit": 2048000,
      "rowLimit": 10000
     },
     "inputWidgets": {},
     "nuid": "50445409-fd63-49de-8947-fe8ebb29bdec",
     "showTitle": false,
     "tableResultSettingsMap": {},
     "title": ""
    }
   },
   "source": [
    "#### Question 4: Diabetes-Related Completed Trials Over Time\n",
    "\n",
    "For the final question, we visualise the number of completed clinical trials for diabetes over time. We use `Completion Date` to mark when the trial is counted in our query. The steps to achieve this visualisation are:\n",
    "\n",
    "1. **Filter** trials where:\n",
    "   - `Completion Date` is not null\n",
    "   - `Study Status` is ‘Completed’\n",
    "   - `Conditions` contains ‘diabetes’.\n",
    "2. **Coalesce** the dates in `Completion Date` as we did in Question 3.\n",
    "3. **Extract** each year from the dates using the `year()` function.\n",
    "4. **Group by** year, this counts how many trials happened each year.\n",
    "5. **Order** results chronologically.\n",
    "6. **Choose** an appropriate visualisation. \n",
    "\n",
    "I went with a line chart, as this is best practice for showing how a variable changes over time.\n",
    "\n",
    "The graph shows that diabetes trials were less common in the 1990s, before blooming in popularity in the 2000s and 2010s. This provides insight into attitudes surrounding diabetes.\n"
   ]
  },
  {
   "cell_type": "code",
   "execution_count": 0,
   "metadata": {
    "application/vnd.databricks.v1+cell": {
     "cellMetadata": {
      "byteLimit": 2048000,
      "rowLimit": 10000
     },
     "inputWidgets": {},
     "nuid": "5245bb34-a34c-4a69-8eda-b78125502d7d",
     "showTitle": false,
     "tableResultSettingsMap": {},
     "title": ""
    }
   },
   "outputs": [
    {
     "output_type": "display_data",
     "data": {
      "text/html": [
       "<style scoped>\n",
       "  .table-result-container {\n",
       "    max-height: 300px;\n",
       "    overflow: auto;\n",
       "  }\n",
       "  table, th, td {\n",
       "    border: 1px solid black;\n",
       "    border-collapse: collapse;\n",
       "  }\n",
       "  th, td {\n",
       "    padding: 5px;\n",
       "  }\n",
       "  th {\n",
       "    text-align: left;\n",
       "  }\n",
       "</style><div class='table-result-container'><table class='table-result'><thead style='background-color: white'><tr><th>completion_year</th><th>diabetes_trial_count</th></tr></thead><tbody><tr><td>1989</td><td>2</td></tr><tr><td>1990</td><td>1</td></tr><tr><td>1991</td><td>1</td></tr><tr><td>1992</td><td>3</td></tr><tr><td>1993</td><td>3</td></tr><tr><td>1994</td><td>2</td></tr><tr><td>1995</td><td>2</td></tr><tr><td>1996</td><td>2</td></tr><tr><td>1997</td><td>3</td></tr><tr><td>1998</td><td>10</td></tr><tr><td>1999</td><td>11</td></tr><tr><td>2000</td><td>20</td></tr><tr><td>2001</td><td>26</td></tr><tr><td>2002</td><td>51</td></tr><tr><td>2003</td><td>76</td></tr><tr><td>2004</td><td>124</td></tr><tr><td>2005</td><td>190</td></tr><tr><td>2006</td><td>244</td></tr><tr><td>2007</td><td>316</td></tr><tr><td>2008</td><td>416</td></tr><tr><td>2009</td><td>460</td></tr><tr><td>2010</td><td>531</td></tr><tr><td>2011</td><td>514</td></tr><tr><td>2012</td><td>589</td></tr><tr><td>2013</td><td>583</td></tr><tr><td>2014</td><td>595</td></tr><tr><td>2015</td><td>665</td></tr><tr><td>2016</td><td>634</td></tr><tr><td>2017</td><td>717</td></tr><tr><td>2018</td><td>685</td></tr><tr><td>2019</td><td>755</td></tr><tr><td>2020</td><td>559</td></tr><tr><td>2021</td><td>577</td></tr><tr><td>2022</td><td>654</td></tr><tr><td>2023</td><td>618</td></tr><tr><td>2024</td><td>427</td></tr><tr><td>2025</td><td>1</td></tr></tbody></table></div>"
      ]
     },
     "metadata": {
      "application/vnd.databricks.v1+output": {
       "addedWidgets": {},
       "aggData": [],
       "aggError": "",
       "aggOverflow": false,
       "aggSchema": [],
       "aggSeriesLimitReached": false,
       "aggType": "",
       "arguments": {},
       "columnCustomDisplayInfos": {},
       "data": [
        [
         1989,
         2
        ],
        [
         1990,
         1
        ],
        [
         1991,
         1
        ],
        [
         1992,
         3
        ],
        [
         1993,
         3
        ],
        [
         1994,
         2
        ],
        [
         1995,
         2
        ],
        [
         1996,
         2
        ],
        [
         1997,
         3
        ],
        [
         1998,
         10
        ],
        [
         1999,
         11
        ],
        [
         2000,
         20
        ],
        [
         2001,
         26
        ],
        [
         2002,
         51
        ],
        [
         2003,
         76
        ],
        [
         2004,
         124
        ],
        [
         2005,
         190
        ],
        [
         2006,
         244
        ],
        [
         2007,
         316
        ],
        [
         2008,
         416
        ],
        [
         2009,
         460
        ],
        [
         2010,
         531
        ],
        [
         2011,
         514
        ],
        [
         2012,
         589
        ],
        [
         2013,
         583
        ],
        [
         2014,
         595
        ],
        [
         2015,
         665
        ],
        [
         2016,
         634
        ],
        [
         2017,
         717
        ],
        [
         2018,
         685
        ],
        [
         2019,
         755
        ],
        [
         2020,
         559
        ],
        [
         2021,
         577
        ],
        [
         2022,
         654
        ],
        [
         2023,
         618
        ],
        [
         2024,
         427
        ],
        [
         2025,
         1
        ]
       ],
       "datasetInfos": [],
       "dbfsResultPath": null,
       "isJsonSchema": true,
       "metadata": {},
       "overflow": false,
       "plotOptions": {
        "customPlotOptions": {},
        "displayType": "table",
        "pivotAggregation": null,
        "pivotColumns": null,
        "xColumns": null,
        "yColumns": null
       },
       "removedWidgets": [],
       "schema": [
        {
         "metadata": "{}",
         "name": "completion_year",
         "type": "\"integer\""
        },
        {
         "metadata": "{}",
         "name": "diabetes_trial_count",
         "type": "\"long\""
        }
       ],
       "type": "table"
      }
     },
     "output_type": "display_data"
    },
    {
     "output_type": "display_data",
     "data": {
      "text/plain": [
       "Databricks visualization. Run in Databricks to view."
      ]
     },
     "metadata": {
      "application/vnd.databricks.v1.subcommand+json": {
       "baseErrorDetails": null,
       "bindings": {},
       "collapsed": false,
       "command": "%python\n__backend_agg_display_orig = display\n__backend_agg_dfs = []\ndef __backend_agg_display_new(df):\n    __backend_agg_df_modules = [\"pandas.core.frame\", \"databricks.koalas.frame\", \"pyspark.sql.dataframe\", \"pyspark.pandas.frame\", \"pyspark.sql.connect.dataframe\"]\n    if (type(df).__module__ in __backend_agg_df_modules and type(df).__name__ == 'DataFrame') or isinstance(df, list):\n        __backend_agg_dfs.append(df)\n\ndisplay = __backend_agg_display_new\n\ndef __backend_agg_user_code_fn():\n    import base64\n    exec(base64.standard_b64decode(\"IyMgUXVlc3Rpb24gNDogQ291bnQgZGlhYmV0ZXMtcmVsYXRlZCBjb21wbGV0ZWQgc3R1ZGllcyBncm91cGVkIGJ5IGNvbXBsZXRpb24geWVhci4KdHJlbmRfZGYgPSBzcGFyay5zcWwoIiIiClNFTEVDVAogIHllYXIoCiAgICBjb2FsZXNjZSgKICAgICAgdG9fZGF0ZShgQ29tcGxldGlvbiBEYXRlYCwgJ3l5eXktTU0tZGQnKSwKICAgICAgdG9fZGF0ZShgQ29tcGxldGlvbiBEYXRlYCwgJ3l5eXktTU0nKQogICAgKQogICkgQVMgY29tcGxldGlvbl95ZWFyLAogIENPVU5UKCopIEFTIGRpYWJldGVzX3RyaWFsX2NvdW50CkZST00gQ2xpbmljYWxUcmlhbHMKV0hFUkUgYENvbXBsZXRpb24gRGF0ZWAgSVMgTk9UIE5VTEwKICBBTkQgbG93ZXIoYENvbmRpdGlvbnNgKSBMSUtFICclZGlhYmV0ZXMlJwogIEFORCBsb3dlcihgU3R1ZHkgU3RhdHVzYCkgPSAnY29tcGxldGVkJwpHUk9VUCBCWQogIHllYXIoCiAgICBjb2FsZXNjZSgKICAgICAgdG9fZGF0ZShgQ29tcGxldGlvbiBEYXRlYCwgJ3l5eXktTU0tZGQnKSwKICAgICAgdG9fZGF0ZShgQ29tcGxldGlvbiBEYXRlYCwgJ3l5eXktTU0nKQogICAgKQogICkKT1JERVIgQlkgY29tcGxldGlvbl95ZWFyCiIiIikKCiMgVmlzdWFsaXNlIHRoZSBkYXRhCmRpc3BsYXkodHJlbmRfZGYpCg==\").decode())\n\ntry:\n    # run user code\n    __backend_agg_user_code_fn()\n\n    #reset display function\n    display = __backend_agg_display_orig\n\n    if len(__backend_agg_dfs) > 0:\n        # create a temp view\n        if type(__backend_agg_dfs[0]).__module__ == \"databricks.koalas.frame\":\n            # koalas dataframe\n            __backend_agg_dfs[0].to_spark().createOrReplaceTempView(\"DatabricksView3dabd6c\")\n        elif type(__backend_agg_dfs[0]).__module__ == \"pandas.core.frame\" or isinstance(__backend_agg_dfs[0], list):\n            # pandas dataframe\n            spark.createDataFrame(__backend_agg_dfs[0]).createOrReplaceTempView(\"DatabricksView3dabd6c\")\n        else:\n            __backend_agg_dfs[0].createOrReplaceTempView(\"DatabricksView3dabd6c\")\n        #run backend agg\n        display(spark.sql(\"\"\"WITH q AS (select * from DatabricksView3dabd6c) SELECT `completion_year`,SUM(`diabetes_trial_count`) `column_9d5aa68639` FROM q GROUP BY `completion_year`\"\"\"))\n    else:\n        displayHTML(\"dataframe no longer exists. If you're using dataframe.display(), use display(dataframe) instead.\")\n\n\nfinally:\n    spark.sql(\"drop view if exists DatabricksView3dabd6c\")\n    display = __backend_agg_display_orig\n    del __backend_agg_display_new\n    del __backend_agg_display_orig\n    del __backend_agg_dfs\n    del __backend_agg_user_code_fn\n\n",
       "commandTitle": "Visualization 1",
       "commandType": "auto",
       "commandVersion": 0,
       "commentThread": [],
       "commentsVisible": false,
       "contentSha256Hex": null,
       "customPlotOptions": {
        "redashChart": [
         {
          "key": "type",
          "value": "CHART"
         },
         {
          "key": "options",
          "value": {
           "alignYAxesAtZero": true,
           "coefficient": 1,
           "columnConfigurationMap": {
            "x": {
             "column": "completion_year",
             "id": "column_9d5aa68638"
            },
            "y": [
             {
              "column": "diabetes_trial_count",
              "id": "column_9d5aa68639",
              "transform": "SUM"
             }
            ]
           },
           "dateTimeFormat": "DD/MM/YYYY HH:mm",
           "direction": {
            "type": "counterclockwise"
           },
           "error_y": {
            "type": "data",
            "visible": true
           },
           "globalSeriesType": "line",
           "isAggregationOn": true,
           "legend": {
            "traceorder": "normal"
           },
           "missingValuesAsZero": true,
           "numberFormat": "0,0.[00000]",
           "percentFormat": "0[.]00%",
           "series": {
            "error_y": {
             "type": "data",
             "visible": true
            },
            "stacking": null
           },
           "seriesOptions": {
            "column_9d5aa68639": {
             "name": "diabetes_trial_count",
             "type": "line",
             "yAxis": 0
            }
           },
           "showDataLabels": false,
           "sizemode": "diameter",
           "sortX": true,
           "sortY": true,
           "swappedAxes": false,
           "textFormat": "",
           "useAggregationsUi": true,
           "valuesOptions": {},
           "version": 2,
           "xAxis": {
            "labels": {
             "enabled": true
            },
            "type": "-"
           },
           "yAxis": [
            {
             "type": "-"
            },
            {
             "opposite": true,
             "type": "-"
            }
           ]
          }
         }
        ]
       },
       "datasetPreviewNameToCmdIdMap": {},
       "diffDeletes": [],
       "diffInserts": [],
       "displayType": "redashChart",
       "error": null,
       "errorDetails": null,
       "errorSummary": null,
       "errorTraceType": null,
       "finishTime": 0,
       "globalVars": {},
       "guid": "",
       "height": "auto",
       "hideCommandCode": false,
       "hideCommandResult": false,
       "iPythonMetadata": null,
       "inputWidgets": {},
       "isLockedInExamMode": false,
       "latestUser": "a user",
       "latestUserId": null,
       "listResultMetadata": null,
       "metadata": {
        "byteLimit": 2048000,
        "rowLimit": 10000
       },
       "nuid": "bc33de10-5349-4e12-90a6-2d8db737452c",
       "origId": 0,
       "parentHierarchy": [],
       "pivotAggregation": null,
       "pivotColumns": null,
       "position": 21.0,
       "resultDbfsErrorMessage": null,
       "resultDbfsStatus": "INLINED_IN_TREE",
       "results": null,
       "showCommandTitle": false,
       "startTime": 0,
       "state": "finished",
       "streamStates": {},
       "subcommandOptions": {
        "queryPlan": {
         "groups": [
          {
           "column": "completion_year",
           "type": "column"
          }
         ],
         "selects": [
          {
           "column": "completion_year",
           "type": "column"
          },
          {
           "alias": "column_9d5aa68639",
           "args": [
            {
             "column": "diabetes_trial_count",
             "type": "column"
            }
           ],
           "function": "SUM",
           "type": "function"
          }
         ]
        }
       },
       "submitTime": 0,
       "subtype": "tableResultSubCmd.visualization",
       "tableResultIndex": 0,
       "tableResultSettingsMap": {},
       "useConsistentColors": false,
       "version": "CommandV1",
       "width": "auto",
       "workflows": [],
       "xColumns": null,
       "yColumns": null
      }
     },
     "output_type": "display_data"
    }
   ],
   "source": [
    "## Question 4: Count diabetes-related completed studies grouped by completion year.\n",
    "trend_df = spark.sql(\"\"\"\n",
    "SELECT\n",
    "  year(\n",
    "    coalesce(\n",
    "      to_date(`Completion Date`, 'yyyy-MM-dd'),\n",
    "      to_date(`Completion Date`, 'yyyy-MM')\n",
    "    )\n",
    "  ) AS completion_year,\n",
    "  COUNT(*) AS diabetes_trial_count\n",
    "FROM ClinicalTrials\n",
    "WHERE `Completion Date` IS NOT NULL\n",
    "  AND lower(`Conditions`) LIKE '%diabetes%'\n",
    "  AND lower(`Study Status`) = 'completed'\n",
    "GROUP BY\n",
    "  year(\n",
    "    coalesce(\n",
    "      to_date(`Completion Date`, 'yyyy-MM-dd'),\n",
    "      to_date(`Completion Date`, 'yyyy-MM')\n",
    "    )\n",
    "  )\n",
    "ORDER BY completion_year\n",
    "\"\"\")\n",
    "\n",
    "# Visualise the data\n",
    "display(trend_df)\n"
   ]
  },
  {
   "cell_type": "markdown",
   "metadata": {
    "application/vnd.databricks.v1+cell": {
     "cellMetadata": {
      "byteLimit": 2048000,
      "rowLimit": 10000
     },
     "inputWidgets": {},
     "nuid": "a7b3614e-a458-4c78-b934-3078b3a28841",
     "showTitle": false,
     "tableResultSettingsMap": {},
     "title": ""
    }
   },
   "source": [
    "#### Conclusion\n",
    "\n",
    "Through our Spark SQL analysis of this clinical trials dataset we have:\n",
    "\n",
    "- Preprocessed the data such that the schema is correct - this aligned faulty columns.\n",
    "- Conducted exploratory data analysis, finding key details to inform our decision making surrounding the questions\n",
    "- Answered 4 questions with succinct queries, discovering important information about study types, top conditions, average trial duration and diabetes trial frequency.\n",
    "\n",
    "These insights can advise many business practicalities, such as budget planning, trial prioritisation and strategic decision-making across various fields.\n"
   ]
  }
 ],
 "metadata": {
  "application/vnd.databricks.v1+notebook": {
   "computePreferences": null,
   "dashboards": [],
   "environmentMetadata": {
    "base_environment": "",
    "environment_version": "1"
   },
   "inputWidgetPreferences": null,
   "language": "python",
   "notebookMetadata": {
    "mostRecentlyExecutedCommandWithImplicitDF": {
     "commandId": 921969674150188,
     "dataframes": [
      "_sqldf"
     ]
    },
    "pythonIndentUnit": 4
   },
   "notebookName": "Clinical Trial Analysis",
   "widgets": {}
  }
 },
 "nbformat": 4,
 "nbformat_minor": 0
}